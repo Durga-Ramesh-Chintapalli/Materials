{
 "cells": [
  {
   "cell_type": "markdown",
   "id": "056c877f",
   "metadata": {},
   "source": [
    "# Exception Handling in python\n"
   ]
  },
  {
   "cell_type": "code",
   "execution_count": 1,
   "id": "20294f14",
   "metadata": {},
   "outputs": [],
   "source": [
    "a=10"
   ]
  },
  {
   "cell_type": "code",
   "execution_count": 6,
   "id": "f74de2fa",
   "metadata": {},
   "outputs": [
    {
     "name": "stdout",
     "output_type": "stream",
     "text": [
      "some problem many hav occured\n"
     ]
    }
   ],
   "source": [
    "# in Exception handling  we have two things\n",
    "\n",
    "try: a=b\n",
    "    #where exception can occur\n",
    "except:\n",
    "    print(\"some problem many hav occured\")"
   ]
  },
  {
   "cell_type": "code",
   "execution_count": 8,
   "id": "636e0eed",
   "metadata": {},
   "outputs": [
    {
     "name": "stdout",
     "output_type": "stream",
     "text": [
      "name 'b' is not defined\n"
     ]
    }
   ],
   "source": [
    "# the message is not providing that what might the problem they have occured\n",
    "# inorder to do that\n",
    "# we have to create an class of Exception\n",
    "try: a=b\n",
    "except Exception as ex:\n",
    "    print(ex)"
   ]
  },
  {
   "cell_type": "code",
   "execution_count": 11,
   "id": "2527f9ac",
   "metadata": {},
   "outputs": [
    {
     "name": "stdout",
     "output_type": "stream",
     "text": [
      " The user have not defined the variable\n"
     ]
    }
   ],
   "source": [
    "try: \n",
    "    a=b # how to handle my exception\n",
    "except NameError as ex1:\n",
    "    print(\" The user have not defined the variable\")\n",
    "except Exception as ex:\n",
    "    print(ex)"
   ]
  },
  {
   "cell_type": "code",
   "execution_count": 12,
   "id": "bac6cd71",
   "metadata": {},
   "outputs": [
    {
     "name": "stdout",
     "output_type": "stream",
     "text": [
      "unsupported operand type(s) for +: 'int' and 'str'\n"
     ]
    }
   ],
   "source": [
    "try: \n",
    "    a=1\n",
    "    b=\"s\"\n",
    "    c=a+b # how to handle my exception\n",
    "except NameError as ex1:\n",
    "    print(\" The user have not defined the variable\")\n",
    "except Exception as ex:\n",
    "    print(ex)"
   ]
  },
  {
   "cell_type": "code",
   "execution_count": 5,
   "id": "f32f45fb",
   "metadata": {},
   "outputs": [
    {
     "ename": "SyntaxError",
     "evalue": "invalid syntax (<ipython-input-5-c81bba988591>, line 4)",
     "output_type": "error",
     "traceback": [
      "\u001b[1;36m  File \u001b[1;32m\"<ipython-input-5-c81bba988591>\"\u001b[1;36m, line \u001b[1;32m4\u001b[0m\n\u001b[1;33m    b=\u001b[0m\n\u001b[1;37m      ^\u001b[0m\n\u001b[1;31mSyntaxError\u001b[0m\u001b[1;31m:\u001b[0m invalid syntax\n"
     ]
    }
   ],
   "source": [
    "# how to handle \n",
    "try: \n",
    "    a=1\n",
    "    b=\"s\"\n",
    "    c=a+b # how to handle my exception\n",
    "except NameError:\n",
    "    print(\" The user have not defined the variable\")\n",
    "except TypeError:\n",
    "    print(\" Try to make data type similar\")\n",
    "except Exception as ex:\n",
    "    print(ex)"
   ]
  },
  {
   "cell_type": "code",
   "execution_count": 2,
   "id": "89e3a3f6",
   "metadata": {},
   "outputs": [
    {
     "name": "stdout",
     "output_type": "stream",
     "text": [
      "Enter the number 145\n",
      "Enter the number 2546\n",
      "0.08241758241758242 591 24570\n"
     ]
    }
   ],
   "source": [
    "try: \n",
    "    a=int(input(\"Enter the number 1\"))\n",
    "    b=int(input(\"Enter the number 2\"))\n",
    "    c=a/b\n",
    "    d=a+b\n",
    "    e=a*b\n",
    "    print(c,d,e)\n",
    "except NameError:\n",
    "    print(\" The user have not defined the variable\")\n",
    "except TypeError:\n",
    "    print(\" Try to make data type similar\")\n",
    "except Exception as ex: # generic exception class\n",
    "    print(ex)"
   ]
  },
  {
   "cell_type": "code",
   "execution_count": null,
   "id": "bd0a194d",
   "metadata": {},
   "outputs": [],
   "source": [
    "# in Try catch block we can use else block"
   ]
  },
  {
   "cell_type": "code",
   "execution_count": 1,
   "id": "b0176b3d",
   "metadata": {},
   "outputs": [
    {
     "name": "stdout",
     "output_type": "stream",
     "text": [
      "Enter the number 112\n",
      "Enter the number 24\n",
      "3.0 16 48\n"
     ]
    }
   ],
   "source": [
    "## try else block\n",
    "try: \n",
    "    a=int(input(\"Enter the number 1\"))\n",
    "    b=int(input(\"Enter the number 2\"))\n",
    "    c=a/b\n",
    "    d=a+b\n",
    "    e=a*b\n",
    "except NameError:\n",
    "    print(\" The user have not defined the variable\")\n",
    "except TypeError:\n",
    "    print(\" Try to make data type similar\")\n",
    "except Exception as ex: # generic exception class\n",
    "    print(ex)\n",
    "else:\n",
    "    print(c,d,e)"
   ]
  },
  {
   "cell_type": "code",
   "execution_count": 2,
   "id": "a6a3b1fa",
   "metadata": {},
   "outputs": [
    {
     "name": "stdout",
     "output_type": "stream",
     "text": [
      "Enter the number 112\n",
      "Enter the number 20\n",
      "division by zero\n",
      " The execution is done\n"
     ]
    }
   ],
   "source": [
    "## try else finally\n",
    "try: \n",
    "    a=int(input(\"Enter the number 1\"))\n",
    "    b=int(input(\"Enter the number 2\"))\n",
    "    c=a/b\n",
    "except NameError:\n",
    "    print(\" The user have not defined the variable\")\n",
    "except TypeError:\n",
    "    print(\" Try to make data type similar\")\n",
    "except Exception as ex: # generic exception class\n",
    "    print(ex)\n",
    "else:\n",
    "    print(c)\n",
    "finally:\n",
    "    print(\" The execution is done\")"
   ]
  },
  {
   "cell_type": "code",
   "execution_count": null,
   "id": "32099b4e",
   "metadata": {},
   "outputs": [],
   "source": []
  }
 ],
 "metadata": {
  "kernelspec": {
   "display_name": "Python 3 (ipykernel)",
   "language": "python",
   "name": "python3"
  },
  "language_info": {
   "codemirror_mode": {
    "name": "ipython",
    "version": 3
   },
   "file_extension": ".py",
   "mimetype": "text/x-python",
   "name": "python",
   "nbconvert_exporter": "python",
   "pygments_lexer": "ipython3",
   "version": "3.6.2"
  }
 },
 "nbformat": 4,
 "nbformat_minor": 5
}
