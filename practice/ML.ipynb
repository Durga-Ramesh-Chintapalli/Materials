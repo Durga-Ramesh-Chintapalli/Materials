{
 "cells": [
  {
   "cell_type": "markdown",
   "id": "f5be3a4f",
   "metadata": {},
   "source": [
    "# AI  Apllication\n",
    "\n",
    "Ai is able to do it own task  without any human interaction\n",
    "# EX: Netflix: Action --> Recommendation\n",
    "# Ex. Amazon : Iphone--> Headset"
   ]
  },
  {
   "cell_type": "markdown",
   "id": "61bf985c",
   "metadata": {},
   "source": [
    "# ML is a sub set of AI\n",
    "Analysis, Stastical tools predection"
   ]
  },
  {
   "cell_type": "markdown",
   "id": "c5352824",
   "metadata": {},
   "source": [
    "# Deep Learning is Subset of ML\n",
    "Multineural N/W Architecture\n",
    "\n",
    "--> ANN(Atrificial Neural N/w)\n",
    "--> CNN(Convoultion Neural N/w)\n",
    "--> RNN(Reinforcement Neural N/w)"
   ]
  },
  {
   "cell_type": "markdown",
   "id": "231b7039",
   "metadata": {},
   "source": [
    "# Data Science is a techinque work on all ML & DL"
   ]
  },
  {
   "cell_type": "markdown",
   "id": "936ea223",
   "metadata": {},
   "source": [
    "# Regresssion Problem \n",
    "\n",
    "# In ML we use various kind of algorithms to allow machine to learn the relationships\n",
    "# within the data provided and makes predecction using them. \n",
    "# it is called regresssion problem\n",
    "\n",
    "It has two approches \n",
    "1) Structures\n",
    "2) unstructured"
   ]
  },
  {
   "cell_type": "markdown",
   "id": "03a9bb86",
   "metadata": {},
   "source": [
    "# ---> [independent] Age Weight o/p [dependent]"
   ]
  },
  {
   "cell_type": "markdown",
   "id": "d6ff1688",
   "metadata": {},
   "source": [
    "# 2) Classification\n",
    "Two outputs is called Multi Class Classification"
   ]
  },
  {
   "cell_type": "markdown",
   "id": "f0ebbd18",
   "metadata": {},
   "source": [
    "# 3) Unsupervised\n",
    "clusturing"
   ]
  },
  {
   "cell_type": "markdown",
   "id": "2f8071a3",
   "metadata": {},
   "source": [
    "# Supervised\n",
    "\n",
    "1) Linear Regression\n",
    "2) Ridge & Laco\n",
    "3) Logistic Regression'\n",
    "4) Decision Tree\n",
    "5) AdaBoost\n",
    "6) Random Forest\n",
    "7) Gradent Bossting\n",
    "8) xgBoosting\n",
    "9) Navir Bayes\n",
    "10)svm\n",
    "11) Knn"
   ]
  },
  {
   "cell_type": "markdown",
   "id": "eaff7ddd",
   "metadata": {},
   "source": [
    "# Unsupervised\n",
    "1) K-Means\n",
    "2) DBScan\n",
    "3) Hierarchy'\n",
    "4) K Nearst Neighbor\n",
    "5) PCA\n",
    "6) LCA"
   ]
  },
  {
   "cell_type": "markdown",
   "id": "b97b6417",
   "metadata": {},
   "source": [
    "#  What Is Regression?\n",
    "\n",
    "Regression searches for relationships among variables. For example, you can observe several employees of some company and try to understand how their salaries depend on their features, such as experience, education level, role, city of employment, and so on.\n"
   ]
  },
  {
   "cell_type": "markdown",
   "id": "2484f200",
   "metadata": {},
   "source": [
    "#  Linear Regression\n",
    "Linear regression is probably one of the most important and widely used regression techniques. It’s among the simplest regression methods. One of its main advantages is the ease of interpreting results."
   ]
  },
  {
   "cell_type": "code",
   "execution_count": null,
   "id": "12100190",
   "metadata": {},
   "outputs": [],
   "source": []
  }
 ],
 "metadata": {
  "kernelspec": {
   "display_name": "Python 3 (ipykernel)",
   "language": "python",
   "name": "python3"
  },
  "language_info": {
   "codemirror_mode": {
    "name": "ipython",
    "version": 3
   },
   "file_extension": ".py",
   "mimetype": "text/x-python",
   "name": "python",
   "nbconvert_exporter": "python",
   "pygments_lexer": "ipython3",
   "version": "3.6.2"
  }
 },
 "nbformat": 4,
 "nbformat_minor": 5
}
