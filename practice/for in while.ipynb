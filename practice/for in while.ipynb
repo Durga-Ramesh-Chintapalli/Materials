{
 "cells": [
  {
   "cell_type": "code",
   "execution_count": 1,
   "id": "985f5f18",
   "metadata": {},
   "outputs": [
    {
     "name": "stdout",
     "output_type": "stream",
     "text": [
      "1 1\n",
      "1 2\n",
      "1 3\n",
      "1 4\n",
      "1 5\n",
      "2 1\n",
      "2 2\n",
      "2 3\n",
      "2 4\n",
      "2 5\n",
      "3 1\n",
      "3 2\n",
      "3 3\n",
      "3 4\n",
      "3 5\n",
      "4 1\n",
      "4 2\n",
      "4 3\n",
      "4 4\n",
      "4 5\n",
      "5 1\n",
      "5 2\n",
      "5 3\n",
      "5 4\n",
      "5 5\n"
     ]
    }
   ],
   "source": [
    "for i in range(1,6,1):  \n",
    "    for j in range(1,6,1):   \n",
    "        print(i,j)\n"
   ]
  },
  {
   "cell_type": "code",
   "execution_count": 5,
   "id": "aaccc6d0",
   "metadata": {},
   "outputs": [
    {
     "name": "stdout",
     "output_type": "stream",
     "text": [
      " These are the chicken ingredients\n",
      "oil\n",
      "chicken\n",
      "onions\n",
      "chillis\n",
      "ready to make chicken\n"
     ]
    }
   ],
   "source": [
    "i = 0\n",
    "chicken = [\"oil\", \"chicken\",\"onions\",\"chillis\"]\n",
    "print(\" These are the chicken ingredients\")\n",
    "when_chicken_complete = 1\n",
    "\n",
    "for ingredients in chicken:\n",
    "    while when_chicken_complete == 1:\n",
    "        print(chicken[i])\n",
    "        i+=1\n",
    "        if i== 4:\n",
    "            print(\"ready to make chicken\")\n",
    "            when_chicken_complete=0"
   ]
  },
  {
   "cell_type": "code",
   "execution_count": null,
   "id": "0ca7146b",
   "metadata": {},
   "outputs": [],
   "source": []
  }
 ],
 "metadata": {
  "kernelspec": {
   "display_name": "Python 3 (ipykernel)",
   "language": "python",
   "name": "python3"
  },
  "language_info": {
   "codemirror_mode": {
    "name": "ipython",
    "version": 3
   },
   "file_extension": ".py",
   "mimetype": "text/x-python",
   "name": "python",
   "nbconvert_exporter": "python",
   "pygments_lexer": "ipython3",
   "version": "3.6.2"
  }
 },
 "nbformat": 4,
 "nbformat_minor": 5
}
