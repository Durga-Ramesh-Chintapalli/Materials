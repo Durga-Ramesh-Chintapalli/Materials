{
 "cells": [
  {
   "cell_type": "code",
   "execution_count": 1,
   "id": "4ae4c55f",
   "metadata": {},
   "outputs": [
    {
     "name": "stdout",
     "output_type": "stream",
     "text": [
      "['False', 'None', 'True', 'and', 'as', 'assert', 'break', 'class', 'continue', 'def', 'del', 'elif', 'else', 'except', 'finally', 'for', 'from', 'global', 'if', 'import', 'in', 'is', 'lambda', 'nonlocal', 'not', 'or', 'pass', 'raise', 'return', 'try', 'while', 'with', 'yield']\n"
     ]
    }
   ],
   "source": [
    "import keyword\n",
    "print(keyword.kwlist)"
   ]
  },
  {
   "cell_type": "code",
   "execution_count": 16,
   "id": "aa3fffef",
   "metadata": {},
   "outputs": [
    {
     "name": "stdout",
     "output_type": "stream",
     "text": [
      "GOod Morning\n",
      "GOod Morning\n"
     ]
    }
   ],
   "source": [
    "def college(a=\"GOod Morning\"):\n",
    "    \n",
    "    print(a)\n",
    "college()\n",
    "college()"
   ]
  },
  {
   "cell_type": "code",
   "execution_count": 15,
   "id": "454f3408",
   "metadata": {},
   "outputs": [
    {
     "name": "stdout",
     "output_type": "stream",
     "text": [
      "ENter Emp Name:rahul\n",
      "Enter EMp NO:7890\n",
      "rahul 7890\n"
     ]
    }
   ],
   "source": [
    "# A function with argument\n",
    "def emp():\n",
    "    a=input(\"ENter Emp Name:\")\n",
    "    b=int(input(\"Enter EMp NO:\"))\n",
    "    print(a,b)\n",
    "emp()"
   ]
  },
  {
   "cell_type": "code",
   "execution_count": 22,
   "id": "8a107802",
   "metadata": {},
   "outputs": [
    {
     "name": "stdout",
     "output_type": "stream",
     "text": [
      "Odd\n",
      "Odd\n"
     ]
    }
   ],
   "source": [
    "def evenodd(x=65):\n",
    "    if x%2==0:\n",
    "        print(\"Even\")\n",
    "    else:\n",
    "        print(\"Odd\")\n",
    "evenodd()\n",
    "evenodd(89)"
   ]
  },
  {
   "cell_type": "markdown",
   "id": "bdacc0c2",
   "metadata": {},
   "source": [
    "# OOPs\n",
    "# POP\n",
    "# scripting\n",
    "\n",
    "# There are 8 Principles in OOPs \n",
    "\n",
    "1.class\n",
    "2.object\n",
    "3.Data abstraction\n",
    "4.Data Encapsulation\n",
    "5.Inheritance\n",
    "6.Polymorphism\n",
    "7.Constructor\n",
    "8.Destructor"
   ]
  },
  {
   "cell_type": "code",
   "execution_count": null,
   "id": "14da67c1",
   "metadata": {},
   "outputs": [],
   "source": [
    "t"
   ]
  }
 ],
 "metadata": {
  "kernelspec": {
   "display_name": "Python 3",
   "language": "python",
   "name": "python3"
  },
  "language_info": {
   "codemirror_mode": {
    "name": "ipython",
    "version": 3
   },
   "file_extension": ".py",
   "mimetype": "text/x-python",
   "name": "python",
   "nbconvert_exporter": "python",
   "pygments_lexer": "ipython3",
   "version": "3.6.2"
  }
 },
 "nbformat": 4,
 "nbformat_minor": 5
}
