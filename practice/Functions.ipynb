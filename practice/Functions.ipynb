{
 "cells": [
  {
   "cell_type": "markdown",
   "id": "a0c65111",
   "metadata": {},
   "source": [
    "# Introduction to Python functions\n",
    "\n",
    "Python is widely used language and provides 'n' number opportunities to enthausiatic learners.\n",
    "Learning python to use function in python in the right way is notable skill for an Python Developer\n",
    "why need pytho functions?\n",
    "Types of Python functions..\n",
    "> Built in Functions\n",
    "> Recursive function\n",
    "> lambda Function\n",
    ">User-Defined Functions\n",
    "\n",
    "* Class is apart of module\n",
    "* Module is a file with a group of functions is called Module\n",
    "* packages is nothing but group module\n",
    "* Library contains a group of packages\n"
   ]
  },
  {
   "cell_type": "code",
   "execution_count": null,
   "id": "3c6607a9",
   "metadata": {},
   "outputs": [],
   "source": [
    "# Types of Variables\n",
    "\n",
    "1. Global variable \n",
    "2. Local variable\n",
    "\n",
    "\n",
    "1. GLOBAL VARIABLE \n",
    " outside of the function \n",
    "    > Global avaliable al funtions in the Module"
   ]
  },
  {
   "cell_type": "code",
   "execution_count": 1,
   "id": "685efd8e",
   "metadata": {},
   "outputs": [
    {
     "name": "stdout",
     "output_type": "stream",
     "text": [
      "f1: 80\n",
      "f2: 80\n"
     ]
    }
   ],
   "source": [
    "\n",
    "# Example:\n",
    "\n",
    "a=80\n",
    "def f1():\n",
    "    print(\"f1:\",a)\n",
    "\n",
    "def f2():\n",
    "    print(\"f2:\",a)\n",
    "f1()\n",
    "f2()"
   ]
  },
  {
   "cell_type": "code",
   "execution_count": null,
   "id": "1e6f9371",
   "metadata": {},
   "outputs": [],
   "source": [
    "Global keyword\n",
    "1 To make global variable avaliable to the function so that we can perform our required modifications.\n",
    "2 To declare global variable inside function happly we go with for global "
   ]
  },
  {
   "cell_type": "code",
   "execution_count": 4,
   "id": "054d04ed",
   "metadata": {},
   "outputs": [
    {
     "name": "stdout",
     "output_type": "stream",
     "text": [
      "f1: 999\n",
      "f2: 818\n",
      "f3: 818\n"
     ]
    }
   ],
   "source": [
    "\n",
    "def f1():\n",
    "    global a\n",
    "    a=999\n",
    "    print(\"f1:\",a)\n",
    "def f2():\n",
    "    global a\n",
    "    a=818\n",
    "    print(\"f2:\",a)\n",
    "def f3():\n",
    "    print(\"f3:\",a)\n",
    "f1()\n",
    "f2()\n",
    "f3()"
   ]
  },
  {
   "cell_type": "code",
   "execution_count": 5,
   "id": "580937d6",
   "metadata": {},
   "outputs": [
    {
     "name": "stdout",
     "output_type": "stream",
     "text": [
      "f1: 777\n",
      "f2: 999\n",
      "f3: 111\n"
     ]
    }
   ],
   "source": [
    "def f1():\n",
    "    global a\n",
    "    a=777\n",
    "    print(\"f1:\",a)\n",
    "def f2():\n",
    "    global b\n",
    "    a=999\n",
    "    print(\"f2:\",a)\n",
    "def f3():\n",
    "    global b\n",
    "    a=111\n",
    "    print(\"f3:\",a)\n",
    "f1()\n",
    "f2()\n",
    "f3()"
   ]
  },
  {
   "cell_type": "code",
   "execution_count": 9,
   "id": "736b05d8",
   "metadata": {},
   "outputs": [],
   "source": [
    "# What is Function\n",
    "\n",
    " * Code Resuseability & Group of statment for particular  activity \n",
    " *  How to define:"
   ]
  },
  {
   "cell_type": "code",
   "execution_count": 1,
   "id": "f68a0cdc",
   "metadata": {},
   "outputs": [
    {
     "name": "stdout",
     "output_type": "stream",
     "text": [
      "gm bharath\n",
      "gm vega\n",
      "gm shree\n",
      "gm lucky\n"
     ]
    }
   ],
   "source": [
    "def wish(name):\n",
    "    print(\"gm\",name)\n",
    "wish(\"bharath\")\n",
    "wish(\"vega\")\n",
    "wish(\"shree\")\n",
    "wish(\"lucky\")"
   ]
  },
  {
   "cell_type": "code",
   "execution_count": null,
   "id": "6013ba5e",
   "metadata": {},
   "outputs": [],
   "source": [
    "# pytho is an Functional Programlming language\n",
    "# python contains \n",
    "USER DEFINES \n",
    "INBUILT FUNCTION\n",
    "\n",
    "If any function defines INSIDE a class such type of functions are called as Methods\n",
    "\n",
    "If any functions defines OUTSIDE of the class such type of functions are called as Functions"
   ]
  },
  {
   "cell_type": "code",
   "execution_count": null,
   "id": "bf59ad1c",
   "metadata": {},
   "outputs": [],
   "source": [
    "we can pass parameter to function  YES\n",
    "\n",
    "python returns any no of values comparing  to other language that they only return one values only"
   ]
  },
  {
   "cell_type": "code",
   "execution_count": 6,
   "id": "1c816fbc",
   "metadata": {},
   "outputs": [],
   "source": [
    "# Recursive  Functions\n",
    "\n",
    "A function that calls itself\n",
    "ex: i want to find factorial(3)\n",
    "    factorial(3)=3*factorial(2)\n",
    "    factorial(n)=n*factorial(n-1)\n",
    "WAP factorial function to find factorial by using Recursive calling itself."
   ]
  },
  {
   "cell_type": "code",
   "execution_count": 8,
   "id": "c403ebce",
   "metadata": {},
   "outputs": [
    {
     "name": "stdout",
     "output_type": "stream",
     "text": [
      "362880\n"
     ]
    }
   ],
   "source": [
    "def factorial(n):\n",
    "    if n==0:\n",
    "        result=1\n",
    "    else:\n",
    "        result=n*factorial(n-1)\n",
    "    return result\n",
    "print(factorial(9))"
   ]
  },
  {
   "cell_type": "code",
   "execution_count": null,
   "id": "6b7dbbd1",
   "metadata": {},
   "outputs": [],
   "source": [
    "Anonymous Functions(No Name[not hidden])\n",
    "\n",
    "Sometime we declare a function aithout name such type of function are called Anonymous\n",
    "-> What is the use with name less function \n",
    " \n",
    "name function \n",
    " \n",
    "def sqaure(n):\n",
    "    return n*n\n",
    "\n",
    "name less function\n",
    "\n",
    "lambda n:n*n\n",
    "if we want to call\n",
    "s=lambda n:n*n\n",
    " print(s(4)) inside return Anonymouys\n",
    "Example: implicit  return to statement no need to Explicitly\n",
    "\n"
   ]
  },
  {
   "cell_type": "code",
   "execution_count": null,
   "id": "0499e2c9",
   "metadata": {},
   "outputs": [],
   "source": [
    "Syntax of lambda\n",
    "\n",
    "lambda input: Expression\n",
    "by lambda readabily of code will be improve by short code"
   ]
  },
  {
   "cell_type": "code",
   "execution_count": 6,
   "id": "0b179c58",
   "metadata": {},
   "outputs": [
    {
     "name": "stdout",
     "output_type": "stream",
     "text": [
      "8100\n",
      "6400\n",
      "160000\n"
     ]
    }
   ],
   "source": [
    "# WAP to create lambda to find square of lambda function\n",
    "\n",
    "s=lambda x:x*x\n",
    "print(s(90))\n",
    "print(s(80))\n",
    "print(s(400))"
   ]
  },
  {
   "cell_type": "code",
   "execution_count": 1,
   "id": "4a029b34",
   "metadata": {},
   "outputs": [
    {
     "name": "stdout",
     "output_type": "stream",
     "text": [
      "The sum of 2 and 5 is:7\n",
      "The sum of 5 and 20 is:25\n",
      "The sum of 4 and 25 is:29\n"
     ]
    }
   ],
   "source": [
    "# WAP lambda function to find SUM of given two numbers\n",
    "s=lambda a,b:a+b\n",
    "print(\"The sum of {} and {} is:{}\".format(2,5,s(2,5)))\n",
    "print(\"The sum of {} and {} is:{}\".format(5,20,s(5,20)))\n",
    "print(\"The sum of {} and {} is:{}\".format(4,25,s(4,25)))"
   ]
  },
  {
   "cell_type": "code",
   "execution_count": 9,
   "id": "af76981d",
   "metadata": {},
   "outputs": [
    {
     "name": "stdout",
     "output_type": "stream",
     "text": [
      "a and b is:10\n"
     ]
    }
   ],
   "source": [
    "# To find the biggest of given two values  Three operators in same line terinorey\n",
    "s=lambda a,b:a if a<b else b\n",
    "print(\"a and b is:{}\".format(9990,2900,s(9990,2900)))\n"
   ]
  },
  {
   "cell_type": "code",
   "execution_count": null,
   "id": "b120f239",
   "metadata": {},
   "outputs": [],
   "source": [
    "POWER Of ANONYMUS function \n",
    "A function can expect muiltiple or another functions as argument this happens by lambda\n",
    "\n",
    "* pass function as argument to another function\n",
    "\n",
    "filter()\n",
    "map()\n",
    "reduce(){ from hadoop MapReduce}"
   ]
  },
  {
   "cell_type": "code",
   "execution_count": 1,
   "id": "0e1c8c8b",
   "metadata": {},
   "outputs": [
    {
     "name": "stdout",
     "output_type": "stream",
     "text": [
      "[108, 200, 250, 350]\n"
     ]
    }
   ],
   "source": [
    "# How you can pass function as argument to another function\n",
    "\n",
    "# filter()\n",
    "\n",
    "''' I have 20 numbers I want to filter even numbers only then this type is called filter'''\n",
    "''' syntax: filter(function,sequence) this sequence can be a list,tuple,set'''\n",
    "# without lambda\n",
    "# filter() is used to filter the out the values in alist\n",
    "# Note:returns the result in a new list\n",
    "def iseven(x):\n",
    "    if x%2==0:\n",
    "        return True\n",
    "    else:\n",
    "        return False\n",
    "l=[5,25,108,125,200,250,350]\n",
    "l1=list(filter(iseven,l))\n",
    "print(l1)"
   ]
  },
  {
   "cell_type": "code",
   "execution_count": 23,
   "id": "854ef714",
   "metadata": {},
   "outputs": [
    {
     "name": "stdout",
     "output_type": "stream",
     "text": [
      "[0, 10, 20, 30, 40]\n",
      "[5, 15, 25, 35]\n"
     ]
    }
   ],
   "source": [
    "# with lambda\n",
    "l=[0,5,10,15,20,25,30,35,40]\n",
    "l1=list(filter(lambda x:x%2==0,l))\n",
    "print(l1)\n",
    "l2=list(filter(lambda x:x%2!=0,l))\n",
    "print(l2)"
   ]
  },
  {
   "cell_type": "code",
   "execution_count": 25,
   "id": "d28482ae",
   "metadata": {},
   "outputs": [
    {
     "name": "stdout",
     "output_type": "stream",
     "text": [
      "[2, 4, 6, 8, 10]\n"
     ]
    }
   ],
   "source": [
    "# map()\n",
    "''' map(function,Sequence)\n",
    "-> Apply some functionality and generate new eliments with required modification we should go for map function '''\n",
    "\n",
    "def do(x):\n",
    "    return 2*x\n",
    "l=[1,2,3,4,5,6,7,8,9]\n",
    "l1=list(map(do,l))\n",
    "print(l1)"
   ]
  },
  {
   "cell_type": "code",
   "execution_count": 11,
   "id": "360849cf",
   "metadata": {},
   "outputs": [
    {
     "name": "stdout",
     "output_type": "stream",
     "text": [
      "[11, 22, 33, 44]\n"
     ]
    }
   ],
   "source": [
    "l1=[1,2,3,4]\n",
    "l2=[10,20,30,40]\n",
    "map(lambda x,y:x+y,l1,l2)\n",
    "l3=list(map(lambda x,y:x+y,l1,l2))\n",
    "print(l3)"
   ]
  },
  {
   "cell_type": "code",
   "execution_count": 33,
   "id": "4704c22e",
   "metadata": {},
   "outputs": [
    {
     "ename": "NameError",
     "evalue": "name 'reduce' is not defined",
     "output_type": "error",
     "traceback": [
      "\u001b[1;31m---------------------------------------------------------------------------\u001b[0m",
      "\u001b[1;31mNameError\u001b[0m                                 Traceback (most recent call last)",
      "\u001b[1;32m~\\AppData\\Local\\Temp/ipykernel_4984/3431155553.py\u001b[0m in \u001b[0;36m<module>\u001b[1;34m\u001b[0m\n\u001b[0;32m      2\u001b[0m \u001b[1;31m# reduce present in functin tools modles\u001b[0m\u001b[1;33m\u001b[0m\u001b[1;33m\u001b[0m\u001b[0m\n\u001b[0;32m      3\u001b[0m \u001b[0ml\u001b[0m\u001b[1;33m=\u001b[0m\u001b[1;33m[\u001b[0m\u001b[1;36m10\u001b[0m\u001b[1;33m,\u001b[0m\u001b[1;36m20\u001b[0m\u001b[1;33m,\u001b[0m\u001b[1;36m30\u001b[0m\u001b[1;33m,\u001b[0m\u001b[1;36m40\u001b[0m\u001b[1;33m,\u001b[0m\u001b[1;36m50\u001b[0m\u001b[1;33m]\u001b[0m\u001b[1;33m\u001b[0m\u001b[1;33m\u001b[0m\u001b[0m\n\u001b[1;32m----> 4\u001b[1;33m \u001b[0mresult\u001b[0m\u001b[1;33m=\u001b[0m\u001b[0mreduce\u001b[0m\u001b[1;33m(\u001b[0m\u001b[1;32mlambda\u001b[0m \u001b[0mx\u001b[0m\u001b[1;33m,\u001b[0m\u001b[0my\u001b[0m\u001b[1;33m:\u001b[0m\u001b[0mx\u001b[0m\u001b[1;33m+\u001b[0m\u001b[0my\u001b[0m\u001b[1;33m,\u001b[0m\u001b[0ml\u001b[0m\u001b[1;33m)\u001b[0m\u001b[1;33m\u001b[0m\u001b[1;33m\u001b[0m\u001b[0m\n\u001b[0m\u001b[0;32m      5\u001b[0m \u001b[0mprint\u001b[0m\u001b[1;33m(\u001b[0m\u001b[0mresult\u001b[0m\u001b[1;33m)\u001b[0m\u001b[1;33m\u001b[0m\u001b[1;33m\u001b[0m\u001b[0m\n",
      "\u001b[1;31mNameError\u001b[0m: name 'reduce' is not defined"
     ]
    }
   ],
   "source": [
    "# reduce(function,sequence)\n",
    "# reduce present in functin tools modles\n",
    "import reduce\n",
    "l=[10,20,30,40,50]\n",
    "result=reduce(lambda x,y:x+y,l)\n",
    "print(result)"
   ]
  },
  {
   "cell_type": "code",
   "execution_count": 3,
   "id": "6c207203",
   "metadata": {},
   "outputs": [],
   "source": [
    "def square(x):\n",
    " return x*x\n"
   ]
  },
  {
   "cell_type": "code",
   "execution_count": 4,
   "id": "9021d6e6",
   "metadata": {},
   "outputs": [
    {
     "name": "stdout",
     "output_type": "stream",
     "text": [
      "Enter any number3\n",
      "Square value =  9\n"
     ]
    }
   ],
   "source": [
    "s =   lambda x: x*x\n",
    "n = int(input('Enter any number'))\n",
    "print('Square value = ',s(n))\n"
   ]
  },
  {
   "cell_type": "code",
   "execution_count": 3,
   "id": "f9d7fc47",
   "metadata": {},
   "outputs": [
    {
     "name": "stdout",
     "output_type": "stream",
     "text": [
      "16\n"
     ]
    }
   ],
   "source": [
    "lambda n:n*n\n",
    "s=lambda n:n*n\n",
    "print(s(4))"
   ]
  },
  {
   "cell_type": "code",
   "execution_count": null,
   "id": "32613e1f",
   "metadata": {},
   "outputs": [],
   "source": []
  }
 ],
 "metadata": {
  "kernelspec": {
   "display_name": "Python 3 (ipykernel)",
   "language": "python",
   "name": "python3"
  },
  "language_info": {
   "codemirror_mode": {
    "name": "ipython",
    "version": 3
   },
   "file_extension": ".py",
   "mimetype": "text/x-python",
   "name": "python",
   "nbconvert_exporter": "python",
   "pygments_lexer": "ipython3",
   "version": "3.6.2"
  }
 },
 "nbformat": 4,
 "nbformat_minor": 5
}
