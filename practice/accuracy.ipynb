{
 "cells": [
  {
   "cell_type": "raw",
   "id": "4db20e66",
   "metadata": {},
   "source": [
    "In machine learning, accuracy is one of the most important performance evaluation metrics for a classification model. The mathematical formula for calculating the accuracy of a machine learning model is 1 – (Number of misclassified samples / Total number of samples). If you want to learn how to evaluate the performance of a machine learning model by calculating its accuracy."
   ]
  },
  {
   "cell_type": "markdown",
   "id": "93b03cd0",
   "metadata": {},
   "source": [
    "# Introduction to Accuracy in Machine Learning\n",
    "Accuracy means the state of being correct or precise. For example, think of a group of friends who guessed the release of the next part of Avengers, and whoever guessed the date which is either the exact release date or closest to the release date is the most accurate one.\n",
    "\n",
    "So, the degree of being closer to a specific value is nothing but accuracy. In machine learning, it is one of the most important and widely used performance evaluation metrics for classification. \n",
    "\n",
    "If you’ve never used it before, below is a comprehensive tutorial on the calculation of accuracy in machine learning using Python."
   ]
  },
  {
   "cell_type": "markdown",
   "id": "68d7ed59",
   "metadata": {},
   "source": [
    "# Calculation of Accuracy using Python\n",
    "\n",
    "For the calculation of the accuracy of a classification model, we must first train a model for any classification-based problem. So here’s how we can easily train a classification-based machine learning model:\n"
   ]
  },
  {
   "cell_type": "code",
   "execution_count": 1,
   "id": "728a00fe",
   "metadata": {},
   "outputs": [
    {
     "data": {
      "text/plain": [
       "LogisticRegression()"
      ]
     },
     "execution_count": 1,
     "metadata": {},
     "output_type": "execute_result"
    }
   ],
   "source": [
    "from sklearn.datasets import make_classification\n",
    "from sklearn.model_selection import train_test_split\n",
    "from sklearn.metrics import accuracy_score\n",
    "from sklearn.linear_model import LogisticRegression\n",
    "nb_samples = 1000\n",
    "x, y = make_classification(n_samples=nb_samples, n_features=2, n_informative=2, n_redundant=0, n_clusters_per_class=1)\n",
    "xtrain, xtest, ytrain, ytest = train_test_split(x, y, test_size=0.2, random_state=42)\n",
    "model = LogisticRegression()\n",
    "model.fit(xtrain, ytrain)"
   ]
  },
  {
   "cell_type": "code",
   "execution_count": 2,
   "id": "5e15e3ea",
   "metadata": {},
   "outputs": [
    {
     "name": "stdout",
     "output_type": "stream",
     "text": [
      "0.98\n"
     ]
    }
   ],
   "source": [
    "print(accuracy_score(ytest, model.predict(xtest)))"
   ]
  },
  {
   "cell_type": "code",
   "execution_count": null,
   "id": "abbce6a6",
   "metadata": {},
   "outputs": [],
   "source": [
    "Many people often confuse accuracy and precision(another classification metric)\n",
    "with each other, accuracy is how \n",
    "close the predicted values are to the expected value,\n",
    "while precision is how close the predicted values are with each other.\n",
    "\n"
   ]
  }
 ],
 "metadata": {
  "kernelspec": {
   "display_name": "Python 3 (ipykernel)",
   "language": "python",
   "name": "python3"
  },
  "language_info": {
   "codemirror_mode": {
    "name": "ipython",
    "version": 3
   },
   "file_extension": ".py",
   "mimetype": "text/x-python",
   "name": "python",
   "nbconvert_exporter": "python",
   "pygments_lexer": "ipython3",
   "version": "3.6.2"
  }
 },
 "nbformat": 4,
 "nbformat_minor": 5
}
