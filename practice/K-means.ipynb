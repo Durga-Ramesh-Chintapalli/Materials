{
 "cells": [
  {
   "cell_type": "code",
   "execution_count": 2,
   "id": "9ea790ef",
   "metadata": {},
   "outputs": [
    {
     "name": "stdout",
     "output_type": "stream",
     "text": [
      "     x   y\n",
      "0   25  79\n",
      "1   34  51\n",
      "2   22  78\n",
      "3   27  59\n",
      "4   33  74\n",
      "5   33  73\n",
      "6   31  57\n",
      "7   22  69\n",
      "8   35  75\n",
      "9   34  51\n",
      "10  67  32\n",
      "11  54  40\n",
      "12  57  47\n",
      "13  43  53\n",
      "14  57  36\n",
      "15  59  35\n",
      "16  52  58\n",
      "17  65  59\n",
      "18  47  50\n",
      "19  49  25\n",
      "20  48  20\n",
      "21  35  14\n",
      "22  33  12\n",
      "23  44  20\n",
      "24  38   5\n",
      "25  43  29\n",
      "26  51  27\n",
      "27  46   8\n"
     ]
    }
   ],
   "source": [
    "from pandas import DataFrame\n",
    "import matplotlib.pyplot as plt\n",
    "from sklearn.cluster import KMeans\n",
    "Data={'x': [25,34,22,27,33,33,31,22,35,34,67,54,57,43,57,59,52,65,47,49,48,35,33,44,38,43,51,46],\n",
    "      'y': [79,51,78,59,74,73,57,69,75,51,32,40,47,53,36,35,58,59,50,25,20,14,12,20,5,29,27,8]\n",
    "     }\n",
    "df=DataFrame(Data,columns=['x','y'])\n",
    "print(df)"
   ]
  },
  {
   "cell_type": "code",
   "execution_count": 3,
   "id": "8b38ef63",
   "metadata": {},
   "outputs": [
    {
     "name": "stdout",
     "output_type": "stream",
     "text": [
      "[[43.         17.77777778]\n",
      " [29.6        66.6       ]\n",
      " [55.66666667 45.55555556]]\n"
     ]
    }
   ],
   "source": [
    "kmeans=KMeans(n_clusters=3).fit(df)\n",
    "centroids =kmeans.cluster_centers_\n",
    "print(centroids)"
   ]
  },
  {
   "cell_type": "code",
   "execution_count": 12,
   "id": "9691f624",
   "metadata": {},
   "outputs": [
    {
     "data": {
      "image/png": "[encoded data removed]",
      "text/plain": [
       "<Figure size 432x288 with 1 Axes>"
      ]
     },
     "metadata": {
      "needs_background": "light"
     },
     "output_type": "display_data"
    }
   ],
   "source": [
    "plt.scatter(df['x'], df['y'], c=kmeans.labels_.astype(float), s=50, alpha=0.5)\n",
    "plt.scatter(centroids[:,0],centroids[:,1], c='red', s=50)\n",
    "plt.show()"
   ]
  },
  {
   "cell_type": "code",
   "execution_count": null,
   "id": "16738681",
   "metadata": {},
   "outputs": [],
   "source": [
    "Center of each clustweer in red represents the man of all observations that belongs to that clusterS"
   ]
  }
 ],
 "metadata": {
  "kernelspec": {
   "display_name": "Python 3 (ipykernel)",
   "language": "python",
   "name": "python3"
  },
  "language_info": {
   "codemirror_mode": {
    "name": "ipython",
    "version": 3
   },
   "file_extension": ".py",
   "mimetype": "text/x-python",
   "name": "python",
   "nbconvert_exporter": "python",
   "pygments_lexer": "ipython3",
   "version": "3.6.2"
  }
 },
 "nbformat": 4,
 "nbformat_minor": 5
}
