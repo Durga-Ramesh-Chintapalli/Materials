{
 "cells": [
  {
   "cell_type": "code",
   "execution_count": 1,
   "id": "27ac8797",
   "metadata": {},
   "outputs": [
    {
     "name": "stdout",
     "output_type": "stream",
     "text": [
      "a+b= 12\n",
      "a+b= 8\n",
      "a+b= 20\n",
      "a+b= 5.0\n",
      "a+b= 0\n",
      "a+b= 5\n",
      "a+b= 100\n"
     ]
    }
   ],
   "source": [
    "# operators\n",
    "'''.. Arithmetic Operators ..\n",
    "    + ==> Addition\n",
    "    - ==> Substraction\n",
    "    * ==> Multiplication\n",
    "    / ==> Division\n",
    "    % ==> Modulo operator '''\n",
    "a=10\n",
    "b=2\n",
    "print(\"a+b=\",a+b)\n",
    "print(\"a+b=\",a-b)\n",
    "print(\"a+b=\",a*b)\n",
    "print(\"a+b=\",a/b)\n",
    "print(\"a+b=\",a%b)\n",
    "print(\"a+b=\",a//b)\n",
    "print(\"a+b=\",a**b)\n"
   ]
  },
  {
   "cell_type": "code",
   "execution_count": 3,
   "id": "5d73a9c3",
   "metadata": {},
   "outputs": [
    {
     "data": {
      "text/plain": [
       "'bharath3'"
      ]
     },
     "execution_count": 3,
     "metadata": {},
     "output_type": "execute_result"
    }
   ],
   "source": [
    "# if we want to aplly '+' operator unto string\n",
    "'bharath'+'3' # only with string not with int"
   ]
  },
  {
   "cell_type": "code",
   "execution_count": 9,
   "id": "62535cba",
   "metadata": {},
   "outputs": [
    {
     "data": {
      "text/plain": [
       "'bharathbharathbharath'"
      ]
     },
     "execution_count": 9,
     "metadata": {},
     "output_type": "execute_result"
    }
   ],
   "source": [
    "#  * operator\n",
    "'bharath'*3 ''' If we want to apply  Star operator unto String ONE operator should be String and another operator should be \n",
    "                integer'''"
   ]
  },
  {
   "cell_type": "code",
   "execution_count": 13,
   "id": "f39fc1d1",
   "metadata": {},
   "outputs": [
    {
     "name": "stdout",
     "output_type": "stream",
     "text": [
      "a>b is False\n",
      "a<b is True\n",
      "a>=b is False\n",
      "a<=b is True\n"
     ]
    }
   ],
   "source": [
    "# relative Operator:\n",
    "# >,>=,<,<= (by default relative operators)\n",
    "a=10\n",
    "b=20\n",
    "print('a>b is',a>b)\n",
    "print('a<b is',a<b)\n",
    "print('a>=b is',a>=b)\n",
    "print('a<=b is',a<=b)\n"
   ]
  },
  {
   "cell_type": "code",
   "execution_count": 17,
   "id": "eae2dc2e",
   "metadata": {},
   "outputs": [
    {
     "data": {
      "text/plain": [
       "False"
      ]
     },
     "execution_count": 17,
     "metadata": {},
     "output_type": "execute_result"
    }
   ],
   "source": [
    "#Equality(==,!=)\n",
    "10==20"
   ]
  },
  {
   "cell_type": "code",
   "execution_count": 18,
   "id": "8b0b7267",
   "metadata": {},
   "outputs": [
    {
     "data": {
      "text/plain": [
       "True"
      ]
     },
     "execution_count": 18,
     "metadata": {},
     "output_type": "execute_result"
    }
   ],
   "source": [
    "'bharath'=='bharath' # == Content Comparision but not address comparison for that 'is' Operator"
   ]
  },
  {
   "cell_type": "code",
   "execution_count": 20,
   "id": "b5d2c60b",
   "metadata": {},
   "outputs": [
    {
     "data": {
      "text/plain": [
       "False"
      ]
     },
     "execution_count": 20,
     "metadata": {},
     "output_type": "execute_result"
    }
   ],
   "source": [
    "10.02==10.1"
   ]
  },
  {
   "cell_type": "code",
   "execution_count": 21,
   "id": "3731d682",
   "metadata": {},
   "outputs": [
    {
     "data": {
      "text/plain": [
       "20"
      ]
     },
     "execution_count": 21,
     "metadata": {},
     "output_type": "execute_result"
    }
   ],
   "source": [
    "# Logical Operators and/or/not    If both argumrnts are true then only True\n",
    "10 and 20"
   ]
  },
  {
   "cell_type": "code",
   "execution_count": 22,
   "id": "26f2a87c",
   "metadata": {},
   "outputs": [
    {
     "data": {
      "text/plain": [
       "10"
      ]
     },
     "execution_count": 22,
     "metadata": {},
     "output_type": "execute_result"
    }
   ],
   "source": [
    "10 or 20   #If atleast one argument is True then True"
   ]
  },
  {
   "cell_type": "code",
   "execution_count": 25,
   "id": "df6748e8",
   "metadata": {},
   "outputs": [
    {
     "data": {
      "text/plain": [
       "4"
      ]
     },
     "execution_count": 25,
     "metadata": {},
     "output_type": "execute_result"
    }
   ],
   "source": [
    "# Bitwise Operators\n",
    "# &,|,^ ( xor ) ,~(complement) ,<<(left shift), >>(right shift)\n",
    "4&5"
   ]
  },
  {
   "cell_type": "code",
   "execution_count": 27,
   "id": "a0263f7d",
   "metadata": {},
   "outputs": [
    {
     "name": "stdout",
     "output_type": "stream",
     "text": [
      "10\n"
     ]
    }
   ],
   "source": [
    "# ASsignment operator\n",
    "x=10\n",
    "print(x)"
   ]
  },
  {
   "cell_type": "code",
   "execution_count": 29,
   "id": "9e21eba6",
   "metadata": {},
   "outputs": [
    {
     "name": "stdout",
     "output_type": "stream",
     "text": [
      "30\n"
     ]
    }
   ],
   "source": [
    "x+=10\n",
    "print(x)"
   ]
  },
  {
   "cell_type": "code",
   "execution_count": 30,
   "id": "6d318c71",
   "metadata": {},
   "outputs": [
    {
     "name": "stdout",
     "output_type": "stream",
     "text": [
      "40\n"
     ]
    }
   ],
   "source": [
    "x=x+10 # compound assignment operator// assign mic=xed with same other operator\n",
    "print(x)"
   ]
  },
  {
   "cell_type": "code",
   "execution_count": 31,
   "id": "2f4e1e59",
   "metadata": {},
   "outputs": [
    {
     "name": "stdout",
     "output_type": "stream",
     "text": [
      "True\n"
     ]
    }
   ],
   "source": [
    "# special Operator\n",
    "# 1. identityt operator\n",
    "# is \n",
    "# isnot\n",
    "\n",
    "a=10\n",
    "b=10\n",
    "print(a is b)"
   ]
  },
  {
   "cell_type": "code",
   "execution_count": 32,
   "id": "590a299e",
   "metadata": {},
   "outputs": [
    {
     "name": "stdout",
     "output_type": "stream",
     "text": [
      "2084856627248\n",
      "2084856627248\n",
      "True\n"
     ]
    }
   ],
   "source": [
    "a=\"san\"\n",
    "b=\"san\"\n",
    "print(id(a))\n",
    "print(id(b))\n",
    "print(a is b)"
   ]
  },
  {
   "cell_type": "code",
   "execution_count": 40,
   "id": "b3792da9",
   "metadata": {},
   "outputs": [
    {
     "name": "stdout",
     "output_type": "stream",
     "text": [
      "True\n",
      "True\n"
     ]
    }
   ],
   "source": [
    "# Membership Operator\n",
    "l=[10,20,30,40]\n",
    "print(10 in l)\n",
    "print(50 not in l)"
   ]
  },
  {
   "cell_type": "code",
   "execution_count": 41,
   "id": "3464cdc2",
   "metadata": {},
   "outputs": [
    {
     "name": "stdout",
     "output_type": "stream",
     "text": [
      "True\n"
     ]
    }
   ],
   "source": [
    "s=\"helloPython\"\n",
    "print('o' in s)"
   ]
  },
  {
   "cell_type": "code",
   "execution_count": null,
   "id": "579c14d8",
   "metadata": {},
   "outputs": [],
   "source": []
  }
 ],
 "metadata": {
  "kernelspec": {
   "display_name": "Python 3 (ipykernel)",
   "language": "python",
   "name": "python3"
  },
  "language_info": {
   "codemirror_mode": {
    "name": "ipython",
    "version": 3
   },
   "file_extension": ".py",
   "mimetype": "text/x-python",
   "name": "python",
   "nbconvert_exporter": "python",
   "pygments_lexer": "ipython3",
   "version": "3.6.2"
  }
 },
 "nbformat": 4,
 "nbformat_minor": 5
}
