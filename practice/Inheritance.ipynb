{
 "cells": [
  {
   "cell_type": "code",
   "execution_count": 2,
   "id": "cb77174c",
   "metadata": {},
   "outputs": [
    {
     "data": {
      "text/plain": [
       "' By Using Composition (HAS -a- Relationship)\\n\\n    By using Inheritance (IS-a-Relationship)'"
      ]
     },
     "execution_count": 2,
     "metadata": {},
     "output_type": "execute_result"
    }
   ],
   "source": [
    "# Inheritance\n",
    "\n",
    "# How We Can Member of one class inside another class\n",
    "\n",
    "# Two Approaches are Avaliable\n",
    "\n",
    "''' By Using Composition (HAS -a- Relationship)\n",
    "\n",
    "    By using Inheritance (IS-a-Relationship)'''"
   ]
  },
  {
   "cell_type": "markdown",
   "id": "5de4a27a",
   "metadata": {},
   "source": [
    "By Using Composition"
   ]
  },
  {
   "cell_type": "code",
   "execution_count": 2,
   "id": "a12a2bec",
   "metadata": {},
   "outputs": [
    {
     "name": "stdout",
     "output_type": "stream",
     "text": [
      "Employee Name: Druga\n",
      "EMployee Name: 100\n",
      "EMployee car Info:\n",
      "Car Name:Innova, Model : 2.5z and color:Grey\n"
     ]
    }
   ],
   "source": [
    "class Car:\n",
    "    def __init__(self,name,model,color):\n",
    "        self.name=name\n",
    "        self.model=model\n",
    "        self.color=color\n",
    "    def getinfo(self):\n",
    "        print(\"Car Name:{}, Model : {} and color:{}\".format(self.name,self.model,self.color))\n",
    "class Employee:\n",
    "    def __init__(self,ename,eno,car):\n",
    "        self.ename=ename\n",
    "        self.eno=eno\n",
    "        self.car=car\n",
    "    def empinfo(self):\n",
    "        print(\"Employee Name:\",self.ename)\n",
    "        print(\"EMployee Name:\",self.eno)\n",
    "        print(\"EMployee car Info:\")\n",
    "        self.car.getinfo()\n",
    "        \n",
    "c=Car('Innova','2.5z','Grey')\n",
    "e=Employee('Druga',100,c)\n",
    "e.empinfo()"
   ]
  },
  {
   "cell_type": "code",
   "execution_count": 3,
   "id": "37fb9f18",
   "metadata": {},
   "outputs": [
    {
     "name": "stdout",
     "output_type": "stream",
     "text": [
      "this is a parent function\n",
      "this is a child function\n"
     ]
    }
   ],
   "source": [
    "# Is-a-Relationship\n",
    "# code-re-Usability\n",
    "class Parent:\n",
    "    def func1(self):\n",
    "        print('this is a parent function')\n",
    "class Child(Parent):\n",
    "    def func2(self):\n",
    "        print(\"this is a child function\")\n",
    "obj=Child()\n",
    "obj.func1()\n",
    "obj.func2()"
   ]
  },
  {
   "cell_type": "code",
   "execution_count": 3,
   "id": "d17729c8",
   "metadata": {},
   "outputs": [],
   "source": [
    "class Car():\n",
    "    def __init__(self,windows,doors,enginetype):\n",
    "        self.windows=windows\n",
    "        self.doors=doors\n",
    "        self.enginetype=enginetype\n",
    "    def drive(self): # self\n",
    "        print(\"The Person drives the car\")"
   ]
  },
  {
   "cell_type": "code",
   "execution_count": 4,
   "id": "c74dd5b2",
   "metadata": {},
   "outputs": [],
   "source": [
    "car=Car(4,5,\"diesel\")"
   ]
  },
  {
   "cell_type": "code",
   "execution_count": 5,
   "id": "a71038b8",
   "metadata": {},
   "outputs": [
    {
     "name": "stdout",
     "output_type": "stream",
     "text": [
      "The Person drives the car\n"
     ]
    }
   ],
   "source": [
    "car.drive()"
   ]
  },
  {
   "cell_type": "code",
   "execution_count": 6,
   "id": "507227d5",
   "metadata": {},
   "outputs": [],
   "source": [
    "class audi(Car):\n",
    "    def __init__(self,windows,doors,enginetype,enableai):\n",
    "        super().__init__(windows,doors,enginetype)\n",
    "        self.enableai=enableai\n",
    "    def selfdriving(self):\n",
    "        prit(\"Audi Support self Driving\")"
   ]
  },
  {
   "cell_type": "code",
   "execution_count": 7,
   "id": "5fe2d1e7",
   "metadata": {},
   "outputs": [],
   "source": [
    "# initializing audi\n",
    "audiQ7=audi(5,5,\"disel\",True)"
   ]
  },
  {
   "cell_type": "code",
   "execution_count": 13,
   "id": "82ae9837",
   "metadata": {},
   "outputs": [
    {
     "data": {
      "text/plain": [
       "int"
      ]
     },
     "execution_count": 13,
     "metadata": {},
     "output_type": "execute_result"
    }
   ],
   "source": [
    "\n",
    "type(audiQ7.doors)"
   ]
  },
  {
   "cell_type": "code",
   "execution_count": null,
   "id": "598768ff",
   "metadata": {},
   "outputs": [],
   "source": []
  },
  {
   "cell_type": "code",
   "execution_count": null,
   "id": "471c85cd",
   "metadata": {},
   "outputs": [],
   "source": []
  },
  {
   "cell_type": "code",
   "execution_count": null,
   "id": "36a1b569",
   "metadata": {},
   "outputs": [],
   "source": []
  },
  {
   "cell_type": "code",
   "execution_count": null,
   "id": "e5eb3afa",
   "metadata": {},
   "outputs": [],
   "source": []
  }
 ],
 "metadata": {
  "kernelspec": {
   "display_name": "Python 3 (ipykernel)",
   "language": "python",
   "name": "python3"
  },
  "language_info": {
   "codemirror_mode": {
    "name": "ipython",
    "version": 3
   },
   "file_extension": ".py",
   "mimetype": "text/x-python",
   "name": "python",
   "nbconvert_exporter": "python",
   "pygments_lexer": "ipython3",
   "version": "3.6.2"
  }
 },
 "nbformat": 4,
 "nbformat_minor": 5
}
