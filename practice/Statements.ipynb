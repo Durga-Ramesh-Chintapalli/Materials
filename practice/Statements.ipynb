{
 "cells": [
  {
   "cell_type": "code",
   "execution_count": null,
   "id": "d0a53a76",
   "metadata": {},
   "outputs": [],
   "source": []
  },
  {
   "cell_type": "code",
   "execution_count": null,
   "id": "9ec0e882",
   "metadata": {},
   "outputs": [],
   "source": []
  },
  {
   "cell_type": "code",
   "execution_count": null,
   "id": "afc25dd6",
   "metadata": {},
   "outputs": [],
   "source": [
    "# Conditinal Statement \n",
    "'''Decison Making(DM) is an important in may programming language as it is in life , \n",
    "    DM in programming language is automated  using condition stmt , in which python Evaluates the code to see if it meets \n",
    "    Specific Conditions'''\n",
    "# Condition evaluated and processed are T or F.\n",
    "''' IF the Condition is Found to be False, '''\n",
    "# Python SIx Condition Stmt  that are used in Decison Making:\n",
    "''' IF Statment\n",
    "    IF-ELSE stmt\n",
    "    Nested IF stmt\n",
    "    IF ....ELIF ladder\n",
    "    Short Hand IF stmt\n",
    "    Short Hand IF-ELSE stmt'''"
   ]
  },
  {
   "cell_type": "code",
   "execution_count": 1,
   "id": "acd8ab51",
   "metadata": {},
   "outputs": [
    {
     "name": "stdout",
     "output_type": "stream",
     "text": [
      "9 is a +ve number\n",
      "True\n"
     ]
    }
   ],
   "source": [
    "# IF Statment\n",
    "''' Syntax: if expression\n",
    "            Stmt '''\n",
    "# if conditon is true, the stmt will be executed\n",
    "num=9\n",
    "if num>0:\n",
    "    print(num,\"is a +ve number\")\n",
    "print(\"True\")"
   ]
  },
  {
   "cell_type": "code",
   "execution_count": 2,
   "id": "567fd96f",
   "metadata": {},
   "outputs": [
    {
     "name": "stdout",
     "output_type": "stream",
     "text": [
      "+ve or zero\n"
     ]
    }
   ],
   "source": [
    "# IF ELSE stmt\n",
    "''' When both the TRUE and FALSE parts og gives condition are specified to be executed'''\n",
    "''' When Condtion is TRUE stmt inside the IF block is executed'''\n",
    "''' if the conditin is false, the stmt outside the if block is execute'''\n",
    "num=0\n",
    "if num<=0:\n",
    "    print(\"+ve or zero\")\n",
    "else:\n",
    "    print(\"-ve number\")"
   ]
  },
  {
   "cell_type": "code",
   "execution_count": 11,
   "id": "14a61084",
   "metadata": {},
   "outputs": [
    {
     "name": "stdout",
     "output_type": "stream",
     "text": [
      "Zero\n"
     ]
    }
   ],
   "source": [
    "# if Elif else\n",
    "''' If Condition is evaluated first , ELif stmt will be executed , if elif also comes false, the else stmt will be executed'''\n",
    "''' syntax: if condition \n",
    "                body of if\n",
    "            elif condition:\n",
    "                body of elif\n",
    "            else:\n",
    "               body of esle'''\n",
    "num=8\n",
    "if num==1:\n",
    "    print(\"+ve or Zero\")\n",
    "elif num==0:\n",
    "    print(\"Zero\")\n",
    "else:\n",
    "    print(\"-ve\")\n"
   ]
  },
  {
   "cell_type": "code",
   "execution_count": 12,
   "id": "ac57ff98",
   "metadata": {},
   "outputs": [
    {
     "name": "stdout",
     "output_type": "stream",
     "text": [
      "+ve\n"
     ]
    }
   ],
   "source": [
    "# Nested if stmt\n",
    "''' This is used when a variable must be process more than onces'''\n",
    "''' syntax:\n",
    "           if(conditon1):\n",
    "                if(condition2):\n",
    "                    # (if condition2 is true)\n",
    "                else:\n",
    "                    # els stmt '''\n",
    "num=8\n",
    "if num>=0:\n",
    "    if num==0:\n",
    "        print(\"zero\")\n",
    "    else:\n",
    "        print(\"+ve\")\n",
    "else:\n",
    "    print(\"-ve\")"
   ]
  },
  {
   "cell_type": "code",
   "execution_count": 4,
   "id": "70aa3965",
   "metadata": {},
   "outputs": [
    {
     "name": "stdout",
     "output_type": "stream",
     "text": [
      "is grt than 11\n"
     ]
    }
   ],
   "source": [
    "# short hand if stmt \n",
    "i=12 \n",
    "if i>11:print(\"is grt than 11\")"
   ]
  },
  {
   "cell_type": "code",
   "execution_count": 17,
   "id": "9ae451f8",
   "metadata": {},
   "outputs": [
    {
     "name": "stdout",
     "output_type": "stream",
     "text": [
      "B\n"
     ]
    }
   ],
   "source": [
    "# Short hand if-else \n",
    "a=3\n",
    "b=5\n",
    "print(\"A\") if a>b else print(\"B\")"
   ]
  },
  {
   "cell_type": "code",
   "execution_count": 5,
   "id": "2fe53ba1",
   "metadata": {},
   "outputs": [
    {
     "name": "stdout",
     "output_type": "stream",
     "text": [
      "Enter some string:MS Dhoni\n",
      " forward direction\n",
      "M\n",
      "S\n",
      " \n",
      "D\n",
      "h\n",
      "o\n",
      "n\n",
      "i\n",
      "BackWard Direction\n",
      "i\n",
      "n\n",
      "o\n",
      "h\n",
      "D\n",
      " \n",
      "S\n"
     ]
    }
   ],
   "source": [
    "# while loop\n",
    "s=input(\"Enter some string:\") # taking an variable read string from keyboard\n",
    "n=len(s) # to get the length of the string \n",
    "i=0 # index values\n",
    "print(\" forward direction\")\n",
    "while i<n:\n",
    "    print(s[i])\n",
    "    i=i+1\n",
    "print(\"BackWard Direction\")\n",
    "i=n-1\n",
    "while i>0:\n",
    "    print(s[i])\n",
    "    i=i-1"
   ]
  },
  {
   "cell_type": "code",
   "execution_count": 38,
   "id": "7ae708f7",
   "metadata": {},
   "outputs": [
    {
     "name": "stdout",
     "output_type": "stream",
     "text": [
      "b\n",
      "a\n",
      "n\n",
      "a\n",
      "n\n",
      "a\n"
     ]
    }
   ],
   "source": [
    "# Range Function\n",
    "''' Range functionn is to generate a squence of numbers\n",
    "    for Example: It Generates a sequence of numbers from 0 to 9\n",
    "    numbers=range(10)'''\n",
    "#How do you extract there numbers through?\n",
    "''' We need iterator( is something which can go over sequence) taht is where for loop comes in'''\n",
    "''' syntax for for loop:for(single element from the sequence) in (sequence something like list) '''\n",
    "for x in \"banana\":\n",
    "    print(x)"
   ]
  },
  {
   "cell_type": "code",
   "execution_count": 6,
   "id": "5e5d51ea",
   "metadata": {},
   "outputs": [
    {
     "name": "stdout",
     "output_type": "stream",
     "text": [
      "0\n",
      "1\n",
      "2\n",
      "3\n",
      "4\n",
      "5\n",
      "6\n",
      "7\n",
      "8\n"
     ]
    }
   ],
   "source": [
    "for x in range(0,9):\n",
    "    print(x)"
   ]
  },
  {
   "cell_type": "code",
   "execution_count": null,
   "id": "45f5fa46",
   "metadata": {},
   "outputs": [],
   "source": []
  }
 ],
 "metadata": {
  "kernelspec": {
   "display_name": "Python 3 (ipykernel)",
   "language": "python",
   "name": "python3"
  },
  "language_info": {
   "codemirror_mode": {
    "name": "ipython",
    "version": 3
   },
   "file_extension": ".py",
   "mimetype": "text/x-python",
   "name": "python",
   "nbconvert_exporter": "python",
   "pygments_lexer": "ipython3",
   "version": "3.9.7"
  }
 },
 "nbformat": 4,
 "nbformat_minor": 5
}
