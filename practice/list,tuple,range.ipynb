{
 "cells": [
  {
   "cell_type": "code",
   "execution_count": null,
   "id": "06d44eb6",
   "metadata": {},
   "outputs": [],
   "source": [
    "# List { Mutuable }\n",
    "List are like the arrays, declared in other language which is a ordered collection of data\n",
    "\n",
    "#Creating  List\n",
    "Lists in python can be created by just placing sequence inside the square brackets [ ]\n",
    "\n",
    "NOTE : Lists are a useful tool for preserving a sequence of data and further iterating over it.\n",
    "    ... Duplicate.\n",
    "    ... We can increase or Decrease\n",
    "    ... values sholud be enclosed with in [ ] square brackets\n",
    "        \n"
   ]
  },
  {
   "cell_type": "code",
   "execution_count": 1,
   "id": "cef76cad",
   "metadata": {},
   "outputs": [
    {
     "data": {
      "text/plain": [
       "list"
      ]
     },
     "execution_count": 1,
     "metadata": {},
     "output_type": "execute_result"
    }
   ],
   "source": [
    "#Creating  a List\n",
    "\n",
    "list=[]\n",
    "type(list)\n"
   ]
  },
  {
   "cell_type": "raw",
   "id": "d844a50d",
   "metadata": {},
   "source": []
  },
  {
   "cell_type": "code",
   "execution_count": 2,
   "id": "4972817d",
   "metadata": {},
   "outputs": [
    {
     "data": {
      "text/plain": [
       "list"
      ]
     },
     "execution_count": 2,
     "metadata": {},
     "output_type": "execute_result"
    }
   ],
   "source": [
    "lst=['math','computers',100,200]\n",
    "type(lst)"
   ]
  },
  {
   "cell_type": "code",
   "execution_count": 3,
   "id": "8e6c8718",
   "metadata": {},
   "outputs": [
    {
     "data": {
      "text/plain": [
       "4"
      ]
     },
     "execution_count": 3,
     "metadata": {},
     "output_type": "execute_result"
    }
   ],
   "source": [
    "# lenth of the list\n",
    "len(lst)"
   ]
  },
  {
   "cell_type": "code",
   "execution_count": 4,
   "id": "56c1c756",
   "metadata": {},
   "outputs": [
    {
     "name": "stdout",
     "output_type": "stream",
     "text": [
      "['math', 'computers', 100, 200, ['college']]\n"
     ]
    }
   ],
   "source": [
    "# to add values in to sequences of list by using append function \n",
    "lst.append([\"college\"]);\n",
    "print(lst)"
   ]
  },
  {
   "cell_type": "code",
   "execution_count": 5,
   "id": "b8338a81",
   "metadata": {},
   "outputs": [
    {
     "data": {
      "text/plain": [
       "'math'"
      ]
     },
     "execution_count": 5,
     "metadata": {},
     "output_type": "execute_result"
    }
   ],
   "source": [
    "# indexing in list 'in lsit indexing start with Zero'\n",
    "lst[0]"
   ]
  },
  {
   "cell_type": "code",
   "execution_count": 6,
   "id": "fe998461",
   "metadata": {},
   "outputs": [
    {
     "data": {
      "text/plain": [
       "['computers', 100, 200, ['college']]"
      ]
     },
     "execution_count": 6,
     "metadata": {},
     "output_type": "execute_result"
    }
   ],
   "source": [
    "# range of values 1 is start of index up to end \n",
    "lst[ 1:]"
   ]
  },
  {
   "cell_type": "code",
   "execution_count": 7,
   "id": "dc440b61",
   "metadata": {},
   "outputs": [
    {
     "name": "stdout",
     "output_type": "stream",
     "text": [
      "['math', 'computers', 100, 200, ['college'], ['campus']]\n"
     ]
    }
   ],
   "source": [
    "# append adds last in the index inorder to add middle of the lsit items we have 'insert function'\n",
    "lst.insert(5,[\"campus\"])\n",
    "print(lst)"
   ]
  },
  {
   "cell_type": "code",
   "execution_count": 13,
   "id": "708abc88",
   "metadata": {},
   "outputs": [
    {
     "name": "stdout",
     "output_type": "stream",
     "text": [
      "[1, 2, 3, 4]\n"
     ]
    }
   ],
   "source": [
    "# extend method where sequences gets extended or divide rhe nested list\n",
    "lst=[1,2,3,4]\n",
    "print(lst)"
   ]
  },
  {
   "cell_type": "code",
   "execution_count": 14,
   "id": "6e1d857b",
   "metadata": {},
   "outputs": [
    {
     "name": "stdout",
     "output_type": "stream",
     "text": [
      "[1, 2, 3, 4, 5, 6]\n"
     ]
    }
   ],
   "source": [
    "lst.extend([5,6])\n",
    "print(lst)"
   ]
  },
  {
   "cell_type": "code",
   "execution_count": 15,
   "id": "1974be10",
   "metadata": {},
   "outputs": [
    {
     "name": "stdout",
     "output_type": "stream",
     "text": [
      "[1, 2, 3, 4, 6]\n"
     ]
    }
   ],
   "source": [
    "# remove is also one of the function in the list\n",
    "\n",
    "lst.remove(5)\n",
    "print(lst)"
   ]
  },
  {
   "cell_type": "code",
   "execution_count": 16,
   "id": "b4d00cde",
   "metadata": {},
   "outputs": [
    {
     "name": "stdout",
     "output_type": "stream",
     "text": [
      "[1, 2, 4, 6]\n"
     ]
    }
   ],
   "source": [
    "#  pop  from list\n",
    "lst.pop(2)\n",
    "print(lst)\n"
   ]
  },
  {
   "cell_type": "code",
   "execution_count": null,
   "id": "771aba2a",
   "metadata": {},
   "outputs": [],
   "source": [
    "'''List Methods\n",
    "append()\n",
    "extend()\n",
    "insert()\n",
    "remove()\n",
    "pop()\n",
    "clear()\n",
    "index()\n",
    "count()\n",
    "sort()\n",
    "reverse()\n",
    "cop()'''"
   ]
  },
  {
   "cell_type": "code",
   "execution_count": 12,
   "id": "87d36c0a",
   "metadata": {},
   "outputs": [
    {
     "name": "stdout",
     "output_type": "stream",
     "text": [
      "initial blank List:\n",
      "[]\n"
     ]
    }
   ],
   "source": [
    "#append()\n",
    "List=[]\n",
    "print(\"initial blank List:\")\n",
    "print(List)"
   ]
  },
  {
   "cell_type": "code",
   "execution_count": 13,
   "id": "1aa71ed7",
   "metadata": {},
   "outputs": [
    {
     "name": "stdout",
     "output_type": "stream",
     "text": [
      "List after Addition\n",
      "[1, 2]\n"
     ]
    }
   ],
   "source": [
    "List.append(1)\n",
    "List.append(2)\n",
    "print(\"List after Addition\")\n",
    "print(List)"
   ]
  },
  {
   "cell_type": "code",
   "execution_count": 1,
   "id": "67a558a9",
   "metadata": {},
   "outputs": [
    {
     "ename": "NameError",
     "evalue": "name 'List' is not defined",
     "output_type": "error",
     "traceback": [
      "\u001b[1;31m---------------------------------------------------------------------------\u001b[0m",
      "\u001b[1;31mNameError\u001b[0m                                 Traceback (most recent call last)",
      "\u001b[1;32m<ipython-input-1-3c67223e418c>\u001b[0m in \u001b[0;36m<module>\u001b[1;34m\u001b[0m\n\u001b[0;32m      1\u001b[0m \u001b[1;31m# Using Iteration\u001b[0m\u001b[1;33m\u001b[0m\u001b[1;33m\u001b[0m\u001b[0m\n\u001b[0;32m      2\u001b[0m \u001b[1;32mfor\u001b[0m \u001b[0mi\u001b[0m \u001b[1;32min\u001b[0m \u001b[0mrange\u001b[0m\u001b[1;33m(\u001b[0m\u001b[1;36m1\u001b[0m\u001b[1;33m,\u001b[0m\u001b[1;36m3\u001b[0m\u001b[1;33m)\u001b[0m\u001b[1;33m:\u001b[0m\u001b[1;33m\u001b[0m\u001b[0m\n\u001b[1;32m----> 3\u001b[1;33m     \u001b[0mList\u001b[0m\u001b[1;33m.\u001b[0m\u001b[0mappend\u001b[0m\u001b[1;33m(\u001b[0m\u001b[0mi\u001b[0m\u001b[1;33m)\u001b[0m\u001b[1;33m\u001b[0m\u001b[0m\n\u001b[0m\u001b[0;32m      4\u001b[0m     \u001b[0mprint\u001b[0m\u001b[1;33m(\u001b[0m\u001b[1;34m\"\\n list Add of element from 1- 3:\"\u001b[0m\u001b[1;33m)\u001b[0m\u001b[1;33m\u001b[0m\u001b[0m\n\u001b[0;32m      5\u001b[0m     \u001b[0mprint\u001b[0m\u001b[1;33m(\u001b[0m\u001b[0mList\u001b[0m\u001b[1;33m)\u001b[0m\u001b[1;33m\u001b[0m\u001b[0m\n",
      "\u001b[1;31mNameError\u001b[0m: name 'List' is not defined"
     ]
    }
   ],
   "source": [
    "# Using Iteration\n",
    "for i in range(1,3):\n",
    "    List.append(i)\n",
    "    print(\"\\n list Add of element from 1- 3:\")\n",
    "    print(List)"
   ]
  },
  {
   "cell_type": "code",
   "execution_count": 15,
   "id": "d3a7aab7",
   "metadata": {},
   "outputs": [
    {
     "name": "stdout",
     "output_type": "stream",
     "text": [
      "\n",
      " List after Adding of alist:\n",
      "[1, 2, 1, 2, 3, ['we', 'unity']]\n"
     ]
    }
   ],
   "source": [
    "# adding list to a List\n",
    "\n",
    "list2=['we','unity']\n",
    "List.append(list2)\n",
    "print(\"\\n List after Adding of alist:\")\n",
    "print(List)\n",
    "      "
   ]
  },
  {
   "cell_type": "code",
   "execution_count": 16,
   "id": "30d0d190",
   "metadata": {},
   "outputs": [
    {
     "name": "stdout",
     "output_type": "stream",
     "text": [
      "intial List:\n",
      "[1, 2, 3, 4]\n"
     ]
    }
   ],
   "source": [
    "# insert()\n",
    "List=[1,2,3,4]\n",
    "print(\"intial List:\")\n",
    "print(List)"
   ]
  },
  {
   "cell_type": "code",
   "execution_count": 18,
   "id": "e76c3ffe",
   "metadata": {},
   "outputs": [
    {
     "name": "stdout",
     "output_type": "stream",
     "text": [
      "[1, 2, 3, 12, 12, 4]\n",
      "['vega', 1, 2, 3, 12, 12, 4]\n"
     ]
    }
   ],
   "source": [
    "List.insert(3,12)\n",
    "print(List)\n",
    "List.insert(0,'vega')\n",
    "print(List)"
   ]
  },
  {
   "cell_type": "code",
   "execution_count": 20,
   "id": "b56b8bc8",
   "metadata": {},
   "outputs": [
    {
     "name": "stdout",
     "output_type": "stream",
     "text": [
      "['vega', 1, 2, 3, 12, 12, 4, 9, 'bharath', 9, 'bharath', 'vega']\n"
     ]
    }
   ],
   "source": [
    "# Extend() add multiple elements at the end of the list\n",
    "List.extend([9,'bharath','vega'])\n",
    "print(List)"
   ]
  },
  {
   "cell_type": "code",
   "execution_count": 21,
   "id": "94e91223",
   "metadata": {},
   "outputs": [
    {
     "name": "stdout",
     "output_type": "stream",
     "text": [
      "vega\n"
     ]
    },
    {
     "ename": "TypeError",
     "evalue": "'list' object is not callable",
     "output_type": "error",
     "traceback": [
      "\u001b[1;31m---------------------------------------------------------------------------\u001b[0m",
      "\u001b[1;31mTypeError\u001b[0m                                 Traceback (most recent call last)",
      "\u001b[1;32m~\\AppData\\Local\\Temp/ipykernel_9944/983741027.py\u001b[0m in \u001b[0;36m<module>\u001b[1;34m\u001b[0m\n\u001b[0;32m      2\u001b[0m \u001b[0mList\u001b[0m\u001b[1;33m=\u001b[0m\u001b[1;33m[\u001b[0m\u001b[1;34m\"vega\"\u001b[0m\u001b[1;33m,\u001b[0m\u001b[1;34m\"Bharath\"\u001b[0m\u001b[1;33m,\u001b[0m\u001b[1;34m\"sam\"\u001b[0m\u001b[1;33m]\u001b[0m\u001b[1;33m\u001b[0m\u001b[1;33m\u001b[0m\u001b[0m\n\u001b[0;32m      3\u001b[0m \u001b[0mprint\u001b[0m\u001b[1;33m(\u001b[0m\u001b[0mList\u001b[0m\u001b[1;33m[\u001b[0m\u001b[1;36m0\u001b[0m\u001b[1;33m]\u001b[0m\u001b[1;33m)\u001b[0m\u001b[1;33m\u001b[0m\u001b[1;33m\u001b[0m\u001b[0m\n\u001b[1;32m----> 4\u001b[1;33m \u001b[0mprint\u001b[0m\u001b[1;33m(\u001b[0m\u001b[0mList\u001b[0m\u001b[1;33m(\u001b[0m\u001b[1;36m2\u001b[0m\u001b[1;33m)\u001b[0m\u001b[1;33m)\u001b[0m\u001b[1;33m\u001b[0m\u001b[1;33m\u001b[0m\u001b[0m\n\u001b[0m",
      "\u001b[1;31mTypeError\u001b[0m: 'list' object is not callable"
     ]
    }
   ],
   "source": [
    "#Accessing Elements from the list\n",
    "List=[\"vega\",\"Bharath\",\"sam\"]\n",
    "print(List[0])\n",
    "print(List(2))"
   ]
  },
  {
   "cell_type": "code",
   "execution_count": 2,
   "id": "79970cbb",
   "metadata": {},
   "outputs": [
    {
     "data": {
      "text/plain": [
       "tuple"
      ]
     },
     "execution_count": 2,
     "metadata": {},
     "output_type": "execute_result"
    }
   ],
   "source": [
    "# Tuples is similar to a list in terms of indexing,\n",
    "# IMMUTABLE ulike lists which  \n",
    "# are mutable ( )--> to represent tuple we use Paranthesis\n",
    "# onces we create tuple we can not modify\n",
    "tup=('python','green')\n",
    "type(tup)"
   ]
  },
  {
   "cell_type": "code",
   "execution_count": 4,
   "id": "bcc12f1a",
   "metadata": {},
   "outputs": [
    {
     "data": {
      "text/plain": [
       "'python'"
      ]
     },
     "execution_count": 4,
     "metadata": {},
     "output_type": "execute_result"
    }
   ],
   "source": [
    "tup[0]"
   ]
  },
  {
   "cell_type": "code",
   "execution_count": 25,
   "id": "437589d0",
   "metadata": {},
   "outputs": [
    {
     "name": "stdout",
     "output_type": "stream",
     "text": [
      "(1, 2, 3, 4, 5)\n"
     ]
    }
   ],
   "source": [
    "tup=(1,2,3,4,5,)\n",
    "print(tup)"
   ]
  },
  {
   "cell_type": "code",
   "execution_count": 26,
   "id": "899849f7",
   "metadata": {},
   "outputs": [
    {
     "name": "stdout",
     "output_type": "stream",
     "text": [
      "(2, 3)\n"
     ]
    }
   ],
   "source": [
    "print(tup[1:3])"
   ]
  },
  {
   "cell_type": "code",
   "execution_count": 29,
   "id": "d4d0df42",
   "metadata": {},
   "outputs": [
    {
     "data": {
      "text/plain": [
       "1"
      ]
     },
     "execution_count": 29,
     "metadata": {},
     "output_type": "execute_result"
    }
   ],
   "source": [
    "tup=(\"vega\",\"ram\")\n",
    "tup.count(\"ram\")"
   ]
  },
  {
   "cell_type": "code",
   "execution_count": 30,
   "id": "fb4f9f24",
   "metadata": {},
   "outputs": [
    {
     "data": {
      "text/plain": [
       "1"
      ]
     },
     "execution_count": 30,
     "metadata": {},
     "output_type": "execute_result"
    }
   ],
   "source": [
    "tup.index(\"ram\")"
   ]
  },
  {
   "cell_type": "code",
   "execution_count": 35,
   "id": "6c42dd6a",
   "metadata": {},
   "outputs": [
    {
     "data": {
      "text/plain": [
       "1"
      ]
     },
     "execution_count": 35,
     "metadata": {},
     "output_type": "execute_result"
    }
   ],
   "source": [
    "tup.count(\"ram\")"
   ]
  },
  {
   "cell_type": "code",
   "execution_count": 42,
   "id": "1a8c0022",
   "metadata": {},
   "outputs": [
    {
     "name": "stdout",
     "output_type": "stream",
     "text": [
      "10 11 12 13 14 15 16 17 18 19 20 21 22 23 24 25 26 27 28 29 30 31 32 33 34 35 36 37 38 39 40 41 42 43 44 45 46 47 48 49 "
     ]
    }
   ],
   "source": [
    "# range { immutable}\n",
    "# returns the sequences of the given \n",
    "# numbers b/w the given range\n",
    "# range(start,stop,step)\n",
    "for i in range(10, 50):\n",
    "    print(i, end=\" \")"
   ]
  },
  {
   "cell_type": "code",
   "execution_count": 43,
   "id": "03911318",
   "metadata": {},
   "outputs": [
    {
     "name": "stdout",
     "output_type": "stream",
     "text": [
      "10 15 20 25 30 35 40 45 "
     ]
    }
   ],
   "source": [
    "for i in range(10, 50, 5):\n",
    "    print(i, end=\" \")"
   ]
  },
  {
   "cell_type": "code",
   "execution_count": null,
   "id": "b874f0a8",
   "metadata": {},
   "outputs": [],
   "source": []
  }
 ],
 "metadata": {
  "kernelspec": {
   "display_name": "Python 3 (ipykernel)",
   "language": "python",
   "name": "python3"
  },
  "language_info": {
   "codemirror_mode": {
    "name": "ipython",
    "version": 3
   },
   "file_extension": ".py",
   "mimetype": "text/x-python",
   "name": "python",
   "nbconvert_exporter": "python",
   "pygments_lexer": "ipython3",
   "version": "3.6.2"
  }
 },
 "nbformat": 4,
 "nbformat_minor": 5
}
