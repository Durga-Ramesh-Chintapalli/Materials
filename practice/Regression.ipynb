{
 "cells": [
  {
   "cell_type": "markdown",
   "id": "8c388926",
   "metadata": {},
   "source": [
    "# Linear Regression in Python"
   ]
  },
  {
   "cell_type": "raw",
   "id": "bedca21d",
   "metadata": {},
   "source": [
    " Data science and machine learning are driving image recognition, autonomous vehicles development, decisions in the financial and energy sectors, advances in medicine, the rise of social networks, and more. Linear regression is an important part of this.\n",
    "\n",
    "Linear regression is one of the fundamental statistical and machine learning techniques. Whether you want to do statistics, machine learning, or scientific computing, there are good chances that you’ll need it. It’s advisable to learn it first and then proceed towards more complex methods."
   ]
  },
  {
   "cell_type": "markdown",
   "id": "9d7eaf1f",
   "metadata": {},
   "source": [
    "# Regression"
   ]
  },
  {
   "cell_type": "raw",
   "id": "eb78fc14",
   "metadata": {},
   "source": [
    "Regression analysis is one of the most important fields\n",
    "in statistics and machine learning. \n",
    "There are many regression methods available. Linear regression is one of them."
   ]
  },
  {
   "cell_type": "raw",
   "id": "a3344719",
   "metadata": {},
   "source": [
    "Regression searches for relationships among variables.\n",
    "\n",
    "For example, you can observe several employees of some company and try to\n",
    "understand how their salaries depend on the features, \n",
    "such as experience, level of education, role, city they work in, and so on.\n",
    "\n",
    "This is a regression problem where data related to each employee represent one observation. The presumption is that the experience, education, role, and city are the independent features, while the salary depends on them.\n",
    "\n",
    "Similarly, you can try to establish a mathematical dependence of the prices of houses on their areas, numbers of bedrooms, distances to the city center, and so on.\n",
    "\n",
    "Generally, in regression analysis, you usually consider some phenomenon of interest and have a number of observations. Each observation has two or more features. Following the assumption that (at least) one of the features depends on the others, you try to establish a relation among them."
   ]
  },
  {
   "cell_type": "markdown",
   "id": "bc67ce36",
   "metadata": {},
   "source": [
    "# When Do You Need Regression?"
   ]
  },
  {
   "cell_type": "raw",
   "id": "3de4ed8a",
   "metadata": {},
   "source": [
    "Regression is also useful when you want to forecast a response \n",
    "using a new set of predictors.\n",
    "For example, you could try to predict electricity consumption \n",
    "of a household for the next hour given the outdoor temperature,\n",
    "time of day, and number of residents in that household.\n",
    "\n",
    "Regression is used in many different fields: economy, computer science, social sciences, and so on. Its importance rises every day with the availability of large amounts of data and increased awareness of the practical value of data.\n",
    "\n"
   ]
  },
  {
   "cell_type": "raw",
   "id": "6bebdb93",
   "metadata": {},
   "source": [
    "Problem Formulation\n",
    "When implementing linear regression of some dependent variable 𝑦 on the set of independent variables 𝐱 = (𝑥₁, …, 𝑥ᵣ), where 𝑟 is the number of predictors, you assume a linear relationship between 𝑦 and 𝐱: 𝑦 = 𝛽₀ + 𝛽₁𝑥₁ + ⋯ + 𝛽ᵣ𝑥ᵣ + 𝜀. This equation is the regression equation. 𝛽₀, 𝛽₁, …, 𝛽ᵣ are the regression coefficients, and 𝜀 is the random error.\n",
    "\n",
    "Linear regression calculates the estimators of the regression coefficients or simply the predicted weights, denoted with 𝑏₀, 𝑏₁, …, 𝑏ᵣ. They define the estimated regression function 𝑓(𝐱) = 𝑏₀ + 𝑏₁𝑥₁ + ⋯ + 𝑏ᵣ𝑥ᵣ. This function should capture the dependencies between the inputs and output sufficiently well.\n",
    "\n",
    "The estimated or predicted response, 𝑓(𝐱ᵢ), for each observation 𝑖 = 1, …, 𝑛, should be as close as possible to the corresponding actual response 𝑦ᵢ. The differences 𝑦ᵢ - 𝑓(𝐱ᵢ) for all observations 𝑖 = 1, …, 𝑛, are called the residuals. Regression is about determining the best predicted weights, that is the weights corresponding to the smallest residuals.\n",
    "\n",
    "To get the best weights, you usually minimize the sum of squared residuals (SSR) for all observations 𝑖 = 1, …, 𝑛: SSR = Σᵢ(𝑦ᵢ - 𝑓(𝐱ᵢ))². This approach is called the method of ordinary least squares.\n",
    "\n",
    "\n",
    " Remove ads\n",
    "Regression Performance\n",
    "The variation of actual responses 𝑦ᵢ, 𝑖 = 1, …, 𝑛, occurs partly due to the dependence on the predictors 𝐱ᵢ. However, there is also an additional inherent variance of the output.\n",
    "\n",
    "The coefficient of determination, denoted as 𝑅², tells you which amount of variation in 𝑦 can be explained by the dependence on 𝐱 using the particular regression model. Larger 𝑅² indicates a better fit and means that the model can better explain the variation of the output with different inputs.\n",
    "\n",
    "The value 𝑅² = 1 corresponds to SSR = 0, that is to the perfect fit since the values of predicted and actual responses fit completely to each other.\n",
    "\n"
   ]
  },
  {
   "cell_type": "markdown",
   "id": "9ae83633",
   "metadata": {},
   "source": [
    "# Implementing Linear Regression in Python"
   ]
  },
  {
   "cell_type": "raw",
   "id": "779b3bc2",
   "metadata": {},
   "source": [
    "# The package NumPy is a fundamental Python scientific package that allows many high-performance operations on single- and multi-dimensional arrays. It also offers many mathematical routines."
   ]
  },
  {
   "cell_type": "raw",
   "id": "cad3f81d",
   "metadata": {},
   "source": [
    "The package scikit-learn is a widely used Python library for machine learning, built on top of NumPy and some other packages. It provides the means for preprocessing data, reducing dimensionality, implementing regression, classification, clustering, and more. Like NumPy, scikit-learn is also open source."
   ]
  },
  {
   "cell_type": "raw",
   "id": "db165f8d",
   "metadata": {},
   "source": [
    "There are five basic steps when you’re implementing linear regression:\n",
    "\n",
    "Import the packages and classes you need.\n",
    "Provide data to work with and eventually do appropriate transformations.\n",
    "Create a regression model and fit it with existing data.\n",
    "Check the results of model fitting to know whether the model is satisfactory.\n",
    "Apply the model for predictions."
   ]
  },
  {
   "cell_type": "code",
   "execution_count": 5,
   "id": "316f8e1b",
   "metadata": {},
   "outputs": [],
   "source": [
    "import numpy as np\n",
    "from sklearn.linear_model import LinearRegression\n",
    "#The class \n",
    "#sklearn.linear_model.LinearRegression will be used to perform\n",
    "#linear and polynomial regression and make predictions accordingly."
   ]
  },
  {
   "cell_type": "code",
   "execution_count": 6,
   "id": "41392587",
   "metadata": {},
   "outputs": [],
   "source": [
    "x = np.array([5, 15, 25, 35, 45, 55]).reshape((-1, 1))\n",
    "y = np.array([5, 20, 14, 32, 22, 38])#The inputs (regressors, 𝑥) and output (predictor, 𝑦) \n",
    "#should be arrays (the instances of the class numpy.ndarray) "
   ]
  },
  {
   "cell_type": "raw",
   "id": "046b5dd0",
   "metadata": {},
   "source": [
    "Now, you have two arrays: the input x and output y. You should call .reshape() on x because this array is required to be two-dimensional, or to be more precise, to have one column and as many rows as necessary. That’s exactly what the argument (-1, 1) of .reshape() specifies."
   ]
  },
  {
   "cell_type": "code",
   "execution_count": 7,
   "id": "fb196a0c",
   "metadata": {},
   "outputs": [
    {
     "name": "stdout",
     "output_type": "stream",
     "text": [
      "[[ 5]\n",
      " [15]\n",
      " [25]\n",
      " [35]\n",
      " [45]\n",
      " [55]]\n"
     ]
    }
   ],
   "source": [
    "print(x)"
   ]
  },
  {
   "cell_type": "code",
   "execution_count": 8,
   "id": "45530049",
   "metadata": {},
   "outputs": [
    {
     "name": "stdout",
     "output_type": "stream",
     "text": [
      "[ 5 20 14 32 22 38]\n"
     ]
    }
   ],
   "source": [
    "print(y)"
   ]
  },
  {
   "cell_type": "raw",
   "id": "8729807c",
   "metadata": {},
   "source": [
    "As you can see, x has two dimensions, and x.shape is (6, 1), while y has a single dimension, and y.shape is (6,)."
   ]
  },
  {
   "cell_type": "markdown",
   "id": "c7556aa1",
   "metadata": {},
   "source": [
    "# Create a model and fit it"
   ]
  },
  {
   "cell_type": "raw",
   "id": "fe37b712",
   "metadata": {},
   "source": [
    "Let’s create an instance of the class LinearRegression, which will represent the regression model:"
   ]
  },
  {
   "cell_type": "code",
   "execution_count": 10,
   "id": "d063e45d",
   "metadata": {},
   "outputs": [],
   "source": [
    "model = LinearRegression()"
   ]
  },
  {
   "cell_type": "code",
   "execution_count": 11,
   "id": "997f5717",
   "metadata": {},
   "outputs": [
    {
     "data": {
      "text/plain": [
       "LinearRegression()"
      ]
     },
     "execution_count": 11,
     "metadata": {},
     "output_type": "execute_result"
    }
   ],
   "source": [
    "#First, you need to call .fit() on model\n",
    "model.fit(x, y)"
   ]
  },
  {
   "cell_type": "code",
   "execution_count": 12,
   "id": "969a0928",
   "metadata": {},
   "outputs": [],
   "source": [
    "model = LinearRegression().fit(x, y)"
   ]
  },
  {
   "cell_type": "code",
   "execution_count": 13,
   "id": "0d070ca1",
   "metadata": {},
   "outputs": [
    {
     "name": "stdout",
     "output_type": "stream",
     "text": [
      "coefficient of determination: 0.7158756137479542\n"
     ]
    }
   ],
   "source": [
    "r_sq = model.score(x, y)\n",
    "print('coefficient of determination:', r_sq)"
   ]
  },
  {
   "cell_type": "code",
   "execution_count": 14,
   "id": "9b25ef44",
   "metadata": {},
   "outputs": [
    {
     "name": "stdout",
     "output_type": "stream",
     "text": [
      "intercept: 5.633333333333329\n"
     ]
    }
   ],
   "source": [
    "print('intercept:', model.intercept_)"
   ]
  },
  {
   "cell_type": "code",
   "execution_count": 15,
   "id": "77d366c8",
   "metadata": {},
   "outputs": [
    {
     "name": "stdout",
     "output_type": "stream",
     "text": [
      "slope: [0.54]\n"
     ]
    }
   ],
   "source": [
    " print('slope:', model.coef_)"
   ]
  },
  {
   "cell_type": "code",
   "execution_count": 16,
   "id": "ede42f2e",
   "metadata": {},
   "outputs": [
    {
     "name": "stdout",
     "output_type": "stream",
     "text": [
      "predicted response:\n",
      "[ 8.33333333 13.73333333 19.13333333 24.53333333 29.93333333 35.33333333]\n"
     ]
    }
   ],
   "source": [
    " y_pred = model.predict(x)\n",
    "print('predicted response:', y_pred, sep='\\n')"
   ]
  },
  {
   "cell_type": "code",
   "execution_count": 17,
   "id": "50e4a92f",
   "metadata": {},
   "outputs": [
    {
     "name": "stdout",
     "output_type": "stream",
     "text": [
      "predicted response:\n",
      "[[ 8.33333333]\n",
      " [13.73333333]\n",
      " [19.13333333]\n",
      " [24.53333333]\n",
      " [29.93333333]\n",
      " [35.33333333]]\n"
     ]
    }
   ],
   "source": [
    "y_pred = model.intercept_ + model.coef_ * x\n",
    "print('predicted response:', y_pred, sep='\\n')"
   ]
  },
  {
   "cell_type": "code",
   "execution_count": null,
   "id": "5655ac16",
   "metadata": {},
   "outputs": [],
   "source": []
  }
 ],
 "metadata": {
  "kernelspec": {
   "display_name": "Python 3 (ipykernel)",
   "language": "python",
   "name": "python3"
  },
  "language_info": {
   "codemirror_mode": {
    "name": "ipython",
    "version": 3
   },
   "file_extension": ".py",
   "mimetype": "text/x-python",
   "name": "python",
   "nbconvert_exporter": "python",
   "pygments_lexer": "ipython3",
   "version": "3.6.2"
  }
 },
 "nbformat": 4,
 "nbformat_minor": 5
}
