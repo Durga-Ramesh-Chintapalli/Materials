{
 "cells": [
  {
   "cell_type": "code",
   "execution_count": 4,
   "id": "9a016af8",
   "metadata": {},
   "outputs": [
    {
     "name": "stdout",
     "output_type": "stream",
     "text": [
      ". ....birthday App....\n",
      "1. show birthday   \n",
      "2. Add to birthday List   \n",
      "3. Exit   \n",
      "Enter your choice1\n",
      "Nothing to show\n",
      ". ....birthday App....\n",
      "1. show birthday   \n",
      "2. Add to birthday List   \n",
      "3. Exit   \n",
      "Enter your choice2\n",
      "Enter friend name3\n",
      "Enter birthdate3\n",
      "Birthday Added\n",
      ". ....birthday App....\n",
      "1. show birthday   \n",
      "2. Add to birthday List   \n",
      "3. Exit   \n",
      "Enter your choice3\n",
      "{'3': '3'}\n"
     ]
    }
   ],
   "source": [
    "#Write a program to develop birthday app\n",
    "dict={ }\n",
    "while True:\n",
    "    print(\". ....birthday App....\")\n",
    "    print(\"1. show birthday   \")\n",
    "    print(\"2. Add to birthday List   \")\n",
    "    print(\"3. Exit   \")\n",
    "    choice=int(input(\"Enter your choice\"))\n",
    "    if choice==1:\n",
    "        if len(dict)==0: \n",
    "               print(\"Nothing to show\")\n",
    "        else:\n",
    "               name=input(\"Enter name to look for birthday\")\n",
    "               birthday=dict.get(name,\"No data found\")\n",
    "               print(birthday)\n",
    "    elif choice==2:\n",
    "        name=input(\"Enter friend name\")\n",
    "        date=input(\"Enter birthdate\")\n",
    "        dict[name]=date\n",
    "        print(\"Birthday Added\")\n",
    "    elif choice==3:\n",
    "        break\n",
    "    else:\n",
    "        print(\"choice a valid option\")\n",
    "\n",
    "\n",
    "        \n",
    "print(dict)\n",
    "\n",
    "\n",
    "\n",
    "\n",
    "\n"
   ]
  },
  {
   "cell_type": "code",
   "execution_count": null,
   "id": "12e94ee7",
   "metadata": {},
   "outputs": [],
   "source": []
  }
 ],
 "metadata": {
  "kernelspec": {
   "display_name": "Python 3 (ipykernel)",
   "language": "python",
   "name": "python3"
  },
  "language_info": {
   "codemirror_mode": {
    "name": "ipython",
    "version": 3
   },
   "file_extension": ".py",
   "mimetype": "text/x-python",
   "name": "python",
   "nbconvert_exporter": "python",
   "pygments_lexer": "ipython3",
   "version": "3.6.2"
  }
 },
 "nbformat": 4,
 "nbformat_minor": 5
}
