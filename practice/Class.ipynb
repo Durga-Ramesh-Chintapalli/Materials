{
 "cells": [
  {
   "cell_type": "markdown",
   "id": "9a1a2ad9",
   "metadata": {},
   "source": [
    "#  oops (object oriented programming language)\n",
    "\n",
    "## Python is a procedure oriented programming (functinal programming)\n",
    "\n",
    "### In very complex applications this functional programming is gets fails so that why we go through OOPs \n",
    "\n",
    "# class\n",
    " * Container/ Blueprint of required thing\n",
    " * Contains data\n",
    " * bheaviour\n",
    "\n",
    "# object\n",
    "\n",
    "* Physical Existance of a class\n",
    "\n",
    "# reference variables\n",
    "\n",
    "* Reference purpose"
   ]
  },
  {
   "cell_type": "code",
   "execution_count": 12,
   "id": "0b476444",
   "metadata": {},
   "outputs": [
    {
     "ename": "TypeError",
     "evalue": "__init__() missing 2 required positional arguments: 'name' and 'rollno'",
     "output_type": "error",
     "traceback": [
      "\u001b[1;31m---------------------------------------------------------------------------\u001b[0m",
      "\u001b[1;31mTypeError\u001b[0m                                 Traceback (most recent call last)",
      "\u001b[1;32m<ipython-input-12-274634bf5503>\u001b[0m in \u001b[0;36m<module>\u001b[1;34m\u001b[0m\n\u001b[0;32m      1\u001b[0m \u001b[1;31m# Class Should start with upper case\u001b[0m\u001b[1;33m\u001b[0m\u001b[1;33m\u001b[0m\u001b[0m\n\u001b[1;32m----> 2\u001b[1;33m \u001b[1;32mclass\u001b[0m \u001b[0mStudent\u001b[0m\u001b[1;33m:\u001b[0m\u001b[1;33m\u001b[0m\u001b[0m\n\u001b[0m\u001b[0;32m      3\u001b[0m     \u001b[0ms\u001b[0m\u001b[1;33m=\u001b[0m\u001b[0mStudent\u001b[0m\u001b[1;33m(\u001b[0m\u001b[1;33m)\u001b[0m \u001b[1;31m# object creation\u001b[0m\u001b[1;33m\u001b[0m\u001b[0m\n\u001b[0;32m      4\u001b[0m \u001b[1;33m\u001b[0m\u001b[0m\n\u001b[0;32m      5\u001b[0m \u001b[1;31m# Student s=new Student();\u001b[0m\u001b[1;33m\u001b[0m\u001b[1;33m\u001b[0m\u001b[0m\n",
      "\u001b[1;32m<ipython-input-12-274634bf5503>\u001b[0m in \u001b[0;36mStudent\u001b[1;34m()\u001b[0m\n\u001b[0;32m      1\u001b[0m \u001b[1;31m# Class Should start with upper case\u001b[0m\u001b[1;33m\u001b[0m\u001b[1;33m\u001b[0m\u001b[0m\n\u001b[0;32m      2\u001b[0m \u001b[1;32mclass\u001b[0m \u001b[0mStudent\u001b[0m\u001b[1;33m:\u001b[0m\u001b[1;33m\u001b[0m\u001b[0m\n\u001b[1;32m----> 3\u001b[1;33m     \u001b[0ms\u001b[0m\u001b[1;33m=\u001b[0m\u001b[0mStudent\u001b[0m\u001b[1;33m(\u001b[0m\u001b[1;33m)\u001b[0m \u001b[1;31m# object creation\u001b[0m\u001b[1;33m\u001b[0m\u001b[0m\n\u001b[0m\u001b[0;32m      4\u001b[0m \u001b[1;33m\u001b[0m\u001b[0m\n\u001b[0;32m      5\u001b[0m \u001b[1;31m# Student s=new Student();\u001b[0m\u001b[1;33m\u001b[0m\u001b[1;33m\u001b[0m\u001b[0m\n",
      "\u001b[1;31mTypeError\u001b[0m: __init__() missing 2 required positional arguments: 'name' and 'rollno'"
     ]
    }
   ],
   "source": [
    "# Class Should start with upper case\n",
    "class Student:\n",
    "    s=Student() # object creation\n",
    "    \n",
    "# Student s=new Student();"
   ]
  },
  {
   "cell_type": "code",
   "execution_count": 1,
   "id": "7f0f2f5e",
   "metadata": {},
   "outputs": [
    {
     "name": "stdout",
     "output_type": "stream",
     "text": [
      "Reading Page...\n"
     ]
    }
   ],
   "source": [
    "# Decleare Method:-\n",
    " \n",
    "class Student :\n",
    "    def read(self): #Instance Method related to class\n",
    "        print(\"Reading Page...\")\n",
    "s=Student()\n",
    "s.read() # we can call any no.of times"
   ]
  },
  {
   "cell_type": "code",
   "execution_count": 2,
   "id": "646d3505",
   "metadata": {},
   "outputs": [],
   "source": [
    "# where is constructor \n",
    "\n",
    "#No necessary of constructor bcoz no use of instance method \n",
    " # python default itself generate Constructor.\n",
    "    \n",
    "class Student:\n",
    "    def __init__(self): # By default Considered as cOnstructor\n",
    "        self.name\n",
    "        self.rollno\n",
    "        self.marks\n",
    "        "
   ]
  },
  {
   "cell_type": "code",
   "execution_count": 3,
   "id": "2f48c3b5",
   "metadata": {},
   "outputs": [
    {
     "name": "stdout",
     "output_type": "stream",
     "text": [
      "vega 102 90\n"
     ]
    }
   ],
   "source": [
    "class Student:\n",
    "    def __init__(self,name,rollno,marks): # \n",
    "        self.name=name\n",
    "        self.rollno=rollno\n",
    "        self.marks=marks\n",
    "        \n",
    "s1=Student(\"vega\",102,90)\n",
    "print(s1.name,s1.rollno,s1.marks)"
   ]
  },
  {
   "cell_type": "code",
   "execution_count": 4,
   "id": "e55aeed6",
   "metadata": {},
   "outputs": [
    {
     "ename": "TypeError",
     "evalue": "__init__() missing 3 required positional arguments: 'name', 'rollno', and 'marks'",
     "output_type": "error",
     "traceback": [
      "\u001b[1;31m---------------------------------------------------------------------------\u001b[0m",
      "\u001b[1;31mTypeError\u001b[0m                                 Traceback (most recent call last)",
      "\u001b[1;32m<ipython-input-4-07ceb6058482>\u001b[0m in \u001b[0;36m<module>\u001b[1;34m\u001b[0m\n\u001b[0;32m      4\u001b[0m \u001b[1;31m# instance of a class in other words\u001b[0m\u001b[1;33m\u001b[0m\u001b[1;33m\u001b[0m\u001b[0m\n\u001b[0;32m      5\u001b[0m \u001b[1;34m''' Syntax: reference variable=classname()  -> object crreated'''\u001b[0m\u001b[1;33m\u001b[0m\u001b[0m\n\u001b[1;32m----> 6\u001b[1;33m \u001b[0ms1\u001b[0m\u001b[1;33m=\u001b[0m\u001b[0mStudent\u001b[0m\u001b[1;33m(\u001b[0m\u001b[1;33m)\u001b[0m\u001b[1;33m\u001b[0m\u001b[0m\n\u001b[0m\u001b[0;32m      7\u001b[0m \u001b[0ms1\u001b[0m\u001b[1;33m.\u001b[0m\u001b[0mname\u001b[0m\u001b[1;33m\u001b[0m\u001b[0m\n\u001b[0;32m      8\u001b[0m \u001b[0ms1\u001b[0m\u001b[1;33m.\u001b[0m\u001b[0mrollno\u001b[0m\u001b[1;33m\u001b[0m\u001b[0m\n",
      "\u001b[1;31mTypeError\u001b[0m: __init__() missing 3 required positional arguments: 'name', 'rollno', and 'marks'"
     ]
    }
   ],
   "source": [
    "# what is an object\n",
    "\n",
    "# physical existance  of ac lass is called object\n",
    "# instance of a class in other words\n",
    "''' Syntax: reference variable=classname()  -> object crreated'''\n",
    "s1=Student()\n",
    "s1.name\n",
    "s1.rollno\n",
    "s1.talk() # calling method by object (1)\n",
    "s1.marks\n",
    "print(s1.name,s1.rollno,s1.marks)\n",
    "# 1. Onces in create object and make it as a reference . \n",
    "# what ever methods class have automatically to the object"
   ]
  },
  {
   "cell_type": "code",
   "execution_count": 5,
   "id": "b6330488",
   "metadata": {},
   "outputs": [
    {
     "data": {
      "text/plain": [
       "' with in the class if we want to refere current object\\n*   self variable always pointing to current object'"
      ]
     },
     "execution_count": 5,
     "metadata": {},
     "output_type": "execute_result"
    }
   ],
   "source": [
    "# how to decleare instance variables by using self keyword\n",
    "''' with in the class if we want to refere current object\n",
    "*   self variable always pointing to current object'''"
   ]
  },
  {
   "cell_type": "code",
   "execution_count": 6,
   "id": "eeffae5f",
   "metadata": {},
   "outputs": [
    {
     "data": {
      "text/plain": [
       "' self should be first parameter  inside instance method'"
      ]
     },
     "execution_count": 6,
     "metadata": {},
     "output_type": "execute_result"
    }
   ],
   "source": [
    "#Why we use self keword\n",
    "\n",
    "''' By using self we can access instance varibable and instances method of current object'''\n",
    "''' self should be first parameter inside the constructor'''\n",
    "# def __init(self):\n",
    "''' self should be first parameter  inside instance method'''\n",
    "# def talk(self):\n"
   ]
  },
  {
   "cell_type": "code",
   "execution_count": 7,
   "id": "b622a23b",
   "metadata": {},
   "outputs": [
    {
     "name": "stdout",
     "output_type": "stream",
     "text": [
      "Emplyoee No: 100\n",
      "Emplyoee Name: Bharath\n",
      "Emplyoee No: 200\n",
      "Emplyoee Name: Vega\n"
     ]
    }
   ],
   "source": [
    "# class with Method\n",
    "class Employee:\n",
    "    def __init__(self,eno,ename):\n",
    "        self.eno=eno \n",
    "        self.ename=ename\n",
    "    def display(self):\n",
    "        print(\"Emplyoee No:\",self.eno)\n",
    "        print(\"Emplyoee Name:\",self.ename)\n",
    "e1=Employee(100,\"Bharath\")\n",
    "e2=Employee(200,\"Vega\")\n",
    "e1.display()\n",
    "e2.display()"
   ]
  },
  {
   "cell_type": "code",
   "execution_count": null,
   "id": "5518ec38",
   "metadata": {},
   "outputs": [],
   "source": []
  },
  {
   "cell_type": "code",
   "execution_count": 8,
   "id": "d84a8392",
   "metadata": {},
   "outputs": [
    {
     "data": {
      "text/plain": [
       "' To decleare and  initalization of  Instances variable'"
      ]
     },
     "execution_count": 8,
     "metadata": {},
     "output_type": "execute_result"
    }
   ],
   "source": [
    "# Constructor ==> __init__\n",
    "''' is is a Special method tha name should be __init__() '''\n",
    "''' can i call constructor or execute?\n",
    "    YES constructor will be executed when ever we are creating object.'''\n",
    "\n",
    "# for object how many times it will execute\n",
    "''' only one time'''\n",
    "\n",
    "# for which purpose constructor is executed\n",
    "''' To decleare and  initalization of  Instances variable'''\n"
   ]
  },
  {
   "cell_type": "code",
   "execution_count": 9,
   "id": "af92d9eb",
   "metadata": {},
   "outputs": [],
   "source": [
    "# static variable\n",
    "class Student():\n",
    "    cname=\"BHarath\" # class level variable\n",
    "    def __init__(self,name,rollno):\n",
    "        self.name=name\n",
    "        self.rollno=rollno # object related"
   ]
  },
  {
   "cell_type": "raw",
   "id": "d13ac7fd",
   "metadata": {},
   "source": []
  },
  {
   "cell_type": "code",
   "execution_count": 10,
   "id": "b124da61",
   "metadata": {},
   "outputs": [
    {
     "name": "stdout",
     "output_type": "stream",
     "text": [
      "10 20\n",
      "10 20\n"
     ]
    }
   ],
   "source": [
    "# How to access static variable\n",
    "class Test:\n",
    "    a=10\n",
    "    def __init__(self):\n",
    "        self.b=20 #instance variable\n",
    "        # Test.c=30  # static variable\n",
    "t=Test()\n",
    "print(t.a,t.b)\n",
    "print(Test.a,t.b)"
   ]
  },
  {
   "cell_type": "code",
   "execution_count": 11,
   "id": "44f1bd25",
   "metadata": {},
   "outputs": [],
   "source": [
    "class sample:\n",
    "    def _init_(self):\n",
    "        print('I am default constructor')\n",
    "        s1 = sample()\n"
   ]
  },
  {
   "cell_type": "code",
   "execution_count": null,
   "id": "89d54ff4",
   "metadata": {},
   "outputs": [],
   "source": []
  },
  {
   "cell_type": "code",
   "execution_count": null,
   "id": "783f4c26",
   "metadata": {},
   "outputs": [],
   "source": []
  },
  {
   "cell_type": "code",
   "execution_count": null,
   "id": "3b2d41be",
   "metadata": {},
   "outputs": [],
   "source": []
  }
 ],
 "metadata": {
  "kernelspec": {
   "display_name": "Python 3 (ipykernel)",
   "language": "python",
   "name": "python3"
  },
  "language_info": {
   "codemirror_mode": {
    "name": "ipython",
    "version": 3
   },
   "file_extension": ".py",
   "mimetype": "text/x-python",
   "name": "python",
   "nbconvert_exporter": "python",
   "pygments_lexer": "ipython3",
   "version": "3.6.2"
  }
 },
 "nbformat": 4,
 "nbformat_minor": 5
}
