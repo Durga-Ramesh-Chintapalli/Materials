{
 "cells": [
  {
   "cell_type": "code",
   "execution_count": 4,
   "id": "ffa9cbd5",
   "metadata": {},
   "outputs": [
    {
     "name": "stdout",
     "output_type": "stream",
     "text": [
      "namasthe\n",
      "Namskar\n"
     ]
    }
   ],
   "source": [
    "class India:\n",
    "    def say_hello(self):\n",
    "        print(\"namasthe\")\n",
    "class Hindi:\n",
    "    def say_hello(self):\n",
    "        print(\"Namskar\")\n",
    "def intro(lang):\n",
    "    lang.say_hello()\n",
    "    \n",
    "bharath= India()\n",
    "vega=Hindi()\n",
    "\n",
    "intro(bharath)\n",
    "intro(vega)"
   ]
  },
  {
   "cell_type": "code",
   "execution_count": 6,
   "id": "834bd5fb",
   "metadata": {
    "scrolled": true
   },
   "outputs": [
    {
     "name": "stdout",
     "output_type": "stream",
     "text": [
      "(10, 20)\n",
      "No. of arguments = 2\n",
      "Sum of arguments =  30\n"
     ]
    }
   ],
   "source": [
    "def find(*x):\n",
    "    print(x)\n",
    "    print('No. of arguments =',len(x))\n",
    "    print('Sum of arguments = ',sum(x))\n",
    "find(10,20)\n"
   ]
  },
  {
   "cell_type": "code",
   "execution_count": 7,
   "id": "880ad76f",
   "metadata": {},
   "outputs": [
    {
     "name": "stdout",
     "output_type": "stream",
     "text": [
      "I am m1 of test class\n"
     ]
    }
   ],
   "source": [
    "class sample:\n",
    "    def m1(self):\n",
    "        print('I am m1 of sample class')\n",
    "class test(sample):\n",
    "    def m1(self):\n",
    "        print('I am m1 of test class')\n",
    "t1=test()\n",
    "t1.m1()\n"
   ]
  },
  {
   "cell_type": "code",
   "execution_count": 8,
   "id": "02890cfd",
   "metadata": {},
   "outputs": [
    {
     "name": "stdout",
     "output_type": "stream",
     "text": [
      "I am m1 of test class\n",
      "I am m1 of sample class\n"
     ]
    }
   ],
   "source": [
    "class sample:\n",
    "    def m1(self):\n",
    "        print('I am m1 of sample class')\n",
    "class test(sample):\n",
    "    def m1(self):\n",
    "        print('I am m1 of test class')\n",
    "        super().m1() \n",
    "t1=test()\n",
    "t1.m1()"
   ]
  },
  {
   "cell_type": "code",
   "execution_count": null,
   "id": "701d8425",
   "metadata": {},
   "outputs": [],
   "source": []
  }
 ],
 "metadata": {
  "kernelspec": {
   "display_name": "Python 3 (ipykernel)",
   "language": "python",
   "name": "python3"
  },
  "language_info": {
   "codemirror_mode": {
    "name": "ipython",
    "version": 3
   },
   "file_extension": ".py",
   "mimetype": "text/x-python",
   "name": "python",
   "nbconvert_exporter": "python",
   "pygments_lexer": "ipython3",
   "version": "3.6.2"
  }
 },
 "nbformat": 4,
 "nbformat_minor": 5
}
