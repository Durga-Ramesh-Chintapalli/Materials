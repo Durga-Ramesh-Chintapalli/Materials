{
 "cells": [
  {
   "cell_type": "code",
   "execution_count": null,
   "id": "b01f2e3c",
   "metadata": {},
   "outputs": [],
   "source": [
    "In Built Functions for Type Casting 'int,float,complex,bool,str'\n",
    "\n",
    "int(){'immutable'}\n",
    "' to represent Whole numbers intergral numbers'\n",
    "Example: int(10.00)// float to int conversion\n",
    "        .. 10 .. its is 'int' type\n",
    "        \n",
    "float(){'immutable'}\n",
    "' to represent decimal numbers'\n",
    "Example: float(10)// int to float conversion\n",
    "        .. 10.0 .. it is 'float' type\n",
    "        \n",
    "complex(){'immutable'}...'''cmath..function--- a(int,float)/real part + b(imaginary) j(mandatory)\n",
    " to represent complex numbers'''\n",
    "Example: complex(10)// int to complex conversion\n",
    "        .. 10+0j .. it is 'complex' type\n",
    "        \n",
    "bool(){'immutable'}\n",
    "' to represent True or False'\n",
    "Example: bool(10)// int to bool conversion\n",
    "        .. True .. it is 'bool' type\n",
    "\n",
    "str(){'immutable'}\n",
    "' to represent sequence of characters'\n",
    "Example: str(10)// int to str conversion\n",
    "        .. '10' .. it is 'str' type\n",
    "        \n",
    "int     to float,bool,str,'complex'\n",
    "float   to int,bool,str,'complex'\n",
    "complex to bool,str,'int,float'\n",
    "bool    to int,float,complex,str\n",
    "str     to int,float,bool,complex"
   ]
  }
 ],
 "metadata": {
  "kernelspec": {
   "display_name": "Python 3 (ipykernel)",
   "language": "python",
   "name": "python3"
  },
  "language_info": {
   "codemirror_mode": {
    "name": "ipython",
    "version": 3
   },
   "file_extension": ".py",
   "mimetype": "text/x-python",
   "name": "python",
   "nbconvert_exporter": "python",
   "pygments_lexer": "ipython3",
   "version": "3.6.2"
  }
 },
 "nbformat": 4,
 "nbformat_minor": 5
}
