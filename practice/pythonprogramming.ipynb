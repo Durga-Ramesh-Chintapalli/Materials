{
 "cells": [
  {
   "cell_type": "markdown",
   "id": "35baad46",
   "metadata": {},
   "source": [
    "# python setup\n",
    "\n",
    " To  install got to google search  \"www.python.org/download\"\n",
    "\n",
    "Click on Download\n",
    "Click on Install Now Verwsion and select the drive we have to install...\n",
    "\n",
    "# Anoconda distribution..\n",
    " -got to google and type \"Www.anaconda.com/download\" \n",
    " -download (as per OS).\n",
    " \n",
    " Here goto \"jupyter-notebook\" where we have to communicate with python begginer level to Higher level\"\n",
    " \n",
    " \n",
    "\n",
    "\n"
   ]
  },
  {
   "cell_type": "code",
   "execution_count": 10,
   "id": "d9207425",
   "metadata": {},
   "outputs": [
    {
     "name": "stdout",
     "output_type": "stream",
     "text": [
      "['False', 'None', 'True', '__peg_parser__', 'and', 'as', 'assert', 'async', 'await', 'break', 'class', 'continue', 'def', 'del', 'elif', 'else', 'except', 'finally', 'for', 'from', 'global', 'if', 'import', 'in', 'is', 'lambda', 'nonlocal', 'not', 'or', 'pass', 'raise', 'return', 'try', 'while', 'with', 'yield']\n"
     ]
    }
   ],
   "source": [
    "# Python Objects\n",
    "''' python is an object -oriented programmig language.Everything is in python treated as an Object\n",
    "    including Variables, functions, list, tuple, dictionary, set, etc.,\n",
    "    Every object belongs to its Class...\n",
    "Example:: An inter variable belongs to integer class....\n",
    "        ## Reserved Words \n",
    "            ... 33 ...'''\n",
    "import keyword\n",
    "print(keyword.kwlist)"
   ]
  },
  {
   "cell_type": "code",
   "execution_count": null,
   "id": "0c5805d2",
   "metadata": {},
   "outputs": [],
   "source": [
    "# DATA TYPES :- 14 ...\n",
    "                    ## Numeric type : int float complex \n",
    "                     #  Text type   : str \n",
    "                    #   Bool type   : bool-----> All these 5 are Pre-defined functions\n",
    "                '''Sequence types   : list tuple range\n",
    "                    Set type        : set frozenset  dict\n",
    "                    Binary Types    : bytes bytearray memoryview \n",
    "                    Mapping Type    : dict '''\n",
    " "
   ]
  },
  {
   "cell_type": "code",
   "execution_count": null,
   "id": "5061c939",
   "metadata": {},
   "outputs": [],
   "source": []
  }
 ],
 "metadata": {
  "kernelspec": {
   "display_name": "Python 3 (ipykernel)",
   "language": "python",
   "name": "python3"
  },
  "language_info": {
   "codemirror_mode": {
    "name": "ipython",
    "version": 3
   },
   "file_extension": ".py",
   "mimetype": "text/x-python",
   "name": "python",
   "nbconvert_exporter": "python",
   "pygments_lexer": "ipython3",
   "version": "3.9.7"
  }
 },
 "nbformat": 4,
 "nbformat_minor": 5
}
