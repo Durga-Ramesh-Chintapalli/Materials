{
 "cells": [
  {
   "cell_type": "code",
   "execution_count": 6,
   "id": "1ee92d38",
   "metadata": {},
   "outputs": [
    {
     "name": "stdout",
     "output_type": "stream",
     "text": [
      "{'c', 'b', 'a'}\n"
     ]
    }
   ],
   "source": [
    "# A set is an unordered collection data type \n",
    "# mutuable\n",
    "# Has no duplicate elements\n",
    "# we cannot access items using indexes like we do in Lists\n",
    "myset=set(['a','b','c'])\n",
    "print(myset) #type(myset)"
   ]
  },
  {
   "cell_type": "code",
   "execution_count": 4,
   "id": "912ef095",
   "metadata": {},
   "outputs": [
    {
     "name": "stdout",
     "output_type": "stream",
     "text": [
      "{'d', 'c', 'b', 'a'}\n"
     ]
    }
   ],
   "source": [
    "# indexing is applicable in set\n",
    "myset.add(\"d\")\n",
    "print(myset)"
   ]
  },
  {
   "cell_type": "code",
   "execution_count": 12,
   "id": "17dfa8c5",
   "metadata": {},
   "outputs": [
    {
     "name": "stdout",
     "output_type": "stream",
     "text": [
      "the frozen set is: frozenset({'name', 'address', 'college', 'sex', 'age'})\n"
     ]
    }
   ],
   "source": [
    "# frozenset()\n",
    "# is an inbuilt function which takes an iterable\n",
    "#objetcs as input and makes them immutable same as set except frozenset \n",
    "# are immutable\n",
    "# uses of Frozenset\n",
    "# Sinces frozenset objects are immutuable they are mainly used as \n",
    "# key in dictionary or elements of other sets.\n",
    "\n",
    "\n",
    "students={\"name\":\"bharath\",\"age\": 45,\"sex\": \"male\",\"college\":\"Clg\", \"address\": \"WGL\"}\n",
    "key=frozenset(students) # making of dictionary as frozenset\n",
    "print('the frozen set is:', key)"
   ]
  },
  {
   "cell_type": "code",
   "execution_count": 13,
   "id": "7f33d1ff",
   "metadata": {},
   "outputs": [
    {
     "data": {
      "text/plain": [
       "frozenset"
      ]
     },
     "execution_count": 13,
     "metadata": {},
     "output_type": "execute_result"
    }
   ],
   "source": [
    "type(key)"
   ]
  },
  {
   "cell_type": "code",
   "execution_count": 15,
   "id": "1b3a7849",
   "metadata": {},
   "outputs": [
    {
     "data": {
      "text/plain": [
       "dict"
      ]
     },
     "execution_count": 15,
     "metadata": {},
     "output_type": "execute_result"
    }
   ],
   "source": [
    "type(students)"
   ]
  },
  {
   "cell_type": "code",
   "execution_count": 16,
   "id": "8008b064",
   "metadata": {},
   "outputs": [
    {
     "data": {
      "text/plain": [
       "dict"
      ]
     },
     "execution_count": 16,
     "metadata": {},
     "output_type": "execute_result"
    }
   ],
   "source": [
    "# Dictnoary\n",
    "# key should be unique \n",
    "# duplicates are not allowed but values can be duplicated\n",
    "d={101:\"Dubai\"}\n",
    "type(d)"
   ]
  },
  {
   "cell_type": "code",
   "execution_count": 18,
   "id": "32df703f",
   "metadata": {},
   "outputs": [
    {
     "name": "stdout",
     "output_type": "stream",
     "text": [
      "{101: 'Dubai', 102: 'chennai'}\n"
     ]
    }
   ],
   "source": [
    "d[102]='chennai'\n",
    "print(d)"
   ]
  },
  {
   "cell_type": "code",
   "execution_count": 19,
   "id": "2f33eb06",
   "metadata": {},
   "outputs": [
    {
     "name": "stdout",
     "output_type": "stream",
     "text": [
      "{101: 'jai', 102: 'chennai'}\n"
     ]
    }
   ],
   "source": [
    "d[101]=\"jai\"\n",
    "print(d)"
   ]
  },
  {
   "cell_type": "code",
   "execution_count": 20,
   "id": "87b174e2",
   "metadata": {},
   "outputs": [
    {
     "name": "stdout",
     "output_type": "stream",
     "text": [
      "{'car1': {'Mwercedes': 1960}, 'car2': {'Audi': 1970}, 'car3': {'Ambassdaor': 1980}}\n"
     ]
    }
   ],
   "source": [
    "# nested Dictionary\n",
    "car1_model={\"Mwercedes\":1960}\n",
    "car2_model={\"Audi\":1970}\n",
    "car3_model={'Ambassdaor':1980}\n",
    "car_type={'car1':car1_model,'car2':car2_model,'car3':car3_model}\n",
    "print(car_type)\n"
   ]
  },
  {
   "cell_type": "code",
   "execution_count": 21,
   "id": "aa10dbf5",
   "metadata": {},
   "outputs": [
    {
     "name": "stdout",
     "output_type": "stream",
     "text": [
      "{'Mwercedes': 1960}\n"
     ]
    }
   ],
   "source": [
    "# Accessing the items in the dictonary\n",
    "print(car_type['car1'])"
   ]
  },
  {
   "cell_type": "code",
   "execution_count": 23,
   "id": "163e15e6",
   "metadata": {},
   "outputs": [
    {
     "name": "stdout",
     "output_type": "stream",
     "text": [
      "1960\n"
     ]
    }
   ],
   "source": [
    "print(car_type['car1']['Mwercedes'])"
   ]
  },
  {
   "cell_type": "code",
   "execution_count": null,
   "id": "39f61448",
   "metadata": {},
   "outputs": [],
   "source": []
  }
 ],
 "metadata": {
  "kernelspec": {
   "display_name": "Python 3 (ipykernel)",
   "language": "python",
   "name": "python3"
  },
  "language_info": {
   "codemirror_mode": {
    "name": "ipython",
    "version": 3
   },
   "file_extension": ".py",
   "mimetype": "text/x-python",
   "name": "python",
   "nbconvert_exporter": "python",
   "pygments_lexer": "ipython3",
   "version": "3.6.2"
  }
 },
 "nbformat": 4,
 "nbformat_minor": 5
}
