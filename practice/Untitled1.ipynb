{
 "cells": [
  {
   "cell_type": "code",
   "execution_count": 1,
   "id": "387360bc",
   "metadata": {},
   "outputs": [
    {
     "name": "stdout",
     "output_type": "stream",
     "text": [
      "Data written successfully ...\n"
     ]
    }
   ],
   "source": [
    "fo  = open('new.txt','w')\n",
    "fo.write('deepti\\n')\n",
    "fo.write('chandra\\n')\n",
    "fo.write('pavan\\n')\n",
    "fo.write('kavya\\n')\n",
    "fo.write('santhosh\\n')\n",
    "print('Data written successfully ...')\n",
    "fo.close()\n",
    "\n"
   ]
  },
  {
   "cell_type": "code",
   "execution_count": null,
   "id": "6d43abaf",
   "metadata": {},
   "outputs": [],
   "source": []
  }
 ],
 "metadata": {
  "kernelspec": {
   "display_name": "Python 3 (ipykernel)",
   "language": "python",
   "name": "python3"
  },
  "language_info": {
   "codemirror_mode": {
    "name": "ipython",
    "version": 3
   },
   "file_extension": ".py",
   "mimetype": "text/x-python",
   "name": "python",
   "nbconvert_exporter": "python",
   "pygments_lexer": "ipython3",
   "version": "3.6.2"
  }
 },
 "nbformat": 4,
 "nbformat_minor": 5
}
