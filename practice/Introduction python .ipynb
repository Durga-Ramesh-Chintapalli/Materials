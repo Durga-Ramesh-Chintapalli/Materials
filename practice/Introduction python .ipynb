{
 "cells": [
  {
   "cell_type": "markdown",
   "id": "da6c851d",
   "metadata": {},
   "source": [
    "# INTRODUCTION PYTHON"
   ]
  },
  {
   "cell_type": "markdown",
   "id": "881f2f32",
   "metadata": {},
   "source": [
    "# Static typed programming language:\n",
    "==> In this, variable declaration is compulsory.\n",
    "==> These programming languages are called static type.\n",
    " ex: c, c++, java, pascal, cobol,....etc.\n",
    "   \n",
    "\n",
    "# Dynamic typed programming language:\n",
    "==> In this, variable declaration is not required\n",
    "==> These programming languages are called dynamic type.\n",
    " ex: python, R,javascript,....etc.\n"
   ]
  },
  {
   "cell_type": "markdown",
   "id": "6e771f22",
   "metadata": {},
   "source": [
    "# How to learn python:\n",
    "\n",
    "character set --> words --> statements --> programs \n",
    "program: A set of statements is called  a  program\n",
    "\n",
    "statement: A set of words is called a statement.\n",
    "\n",
    "\n",
    "word:  A set of characters is called a word.\n",
    "\n",
    "\n"
   ]
  },
  {
   "cell_type": "markdown",
   "id": "622c154c",
   "metadata": {},
   "source": [
    "# Character set :\n",
    "    \n",
    "==> python character set divided into 3 parts:\n",
    "        1. alphabets\n",
    "        2. digits\n",
    "        3. special symbols\n",
    "        \n",
    "1. alphabets:\n",
    "    The lower case letters : a,b,c,...z\n",
    "    The upper case letters : A,B,C,D,E....Z.\n",
    "    \n",
    "2. digits:\n",
    "    The numbers are : 0,1,2.3..................etc.\n",
    "    \n",
    "3. special symbols:\n",
    "     + - * /\n",
    "     < > :   ;   '   \"   ,   .\n",
    "     [  ]   (   )   {    }\n"
   ]
  },
  {
   "cell_type": "markdown",
   "id": "a85f3352",
   "metadata": {},
   "source": [
    "# words:\n",
    "==> A single character or group of characters is called a word.\n",
    "\n",
    "\n",
    "==> python supports 2 types of words:\n",
    "            1. keywords\n",
    "            2. user-defined words\n",
    "\n",
    "1. keywords:\n",
    "==> These words are coming from along with python software.\n",
    "==> These words are called keywords.\n",
    "==> It is also called reserved words/standard words/\n",
    "     predefined words/built-in words/readymade words.    \n",
    "==> The NO. of keywords are not fixed.\n",
    "    It is varying from version to version.\n",
    "==> In python 3.10 version , total keywords are 35.   \n",
    "\n",
    ">>> import keyword\n",
    "\n",
    ">>> keyword.kwlist                     \n",
    "        True      False      None     \n",
    "        and       or         not     \n",
    "        is        in   \n",
    "        if        elif       else     \n",
    "        while     for             \n",
    "        break     continue   pass    \n",
    "        def       lambda     nonlocal   global return\n",
    "        import    from        as    \n",
    "        class     with    \n",
    "        try       except      finally    raise     \n",
    "        del       await       async\n",
    "        assert    yield                \n",
    "\n"
   ]
  },
  {
   "cell_type": "code",
   "execution_count": null,
   "id": "9c9c644b",
   "metadata": {},
   "outputs": [],
   "source": [
    "        \n",
    "2. user-defined words:\n",
    "    \n",
    "==> These words are developed by programmer,\n",
    "    based on our requirements.\n",
    "==> These words are called user-defined words."
   ]
  },
  {
   "cell_type": "markdown",
   "id": "9c7f041b",
   "metadata": {},
   "source": [
    "# PYTHON INTRODUCTION:\n",
    "\n",
    "==> python is a high level programming language.\n",
    "==> python is a pop(procedural oriented programming) language.\n",
    "==> python is a oop(object oriented programming) language.\n",
    "==> python is a scripting language\n",
    "==> python is a dynamically typed programming language.\n",
    "==> python was developed by Guido van Rossum in 1989.\n",
    "==> python is available for different versions.\n",
    "==> python version 1.0 was released in 1991.                   \n",
    "==> python version 2.0 was released in 2000.                \n",
    "==> python version 3.0 was released in 2008.\n",
    "==> Latest and current python version is  3.10.4\n",
    "    was released in Mar 23 2022.\n"
   ]
  },
  {
   "cell_type": "markdown",
   "id": "fbc1e48e",
   "metadata": {},
   "source": [
    "# we are in python"
   ]
  },
  {
   "cell_type": "code",
   "execution_count": null,
   "id": "5d8c6610",
   "metadata": {},
   "outputs": [],
   "source": []
  }
 ],
 "metadata": {
  "kernelspec": {
   "display_name": "Python 3 (ipykernel)",
   "language": "python",
   "name": "python3"
  },
  "language_info": {
   "codemirror_mode": {
    "name": "ipython",
    "version": 3
   },
   "file_extension": ".py",
   "mimetype": "text/x-python",
   "name": "python",
   "nbconvert_exporter": "python",
   "pygments_lexer": "ipython3",
   "version": "3.6.2"
  }
 },
 "nbformat": 4,
 "nbformat_minor": 5
}
